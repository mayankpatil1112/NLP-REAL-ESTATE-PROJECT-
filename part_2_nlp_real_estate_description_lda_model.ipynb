{
  "nbformat": 4,
  "nbformat_minor": 0,
  "metadata": {
    "colab": {
      "provenance": [],
      "collapsed_sections": [
        "QdCsZGwi0AXO",
        "QCeLvnMOEWWU"
      ]
    },
    "kernelspec": {
      "name": "python3",
      "display_name": "Python 3"
    },
    "language_info": {
      "name": "python"
    }
  },
  "cells": [
    {
      "cell_type": "markdown",
      "metadata": {
        "id": "lqIiz_-UDOQj"
      },
      "source": [
        "# Part 2 | NLP Real Estate Description LDA Model\n",
        "[![Open In Colab](https://colab.research.google.com/assets/colab-badge.svg)](https://colab.research.google.com/drive/1dMK6VoeAQbpV59hDO4vBp2R7rOLn7ErB?usp=sharing)\n",
        "\n",
        "## Overview\n",
        "| Detail Tag            | Information                                                                                        |\n",
        "|-----------------------|----------------------------------------------------------------------------------------------------|\n",
        "| Originally Created By | Ariel Herrera arielherrera@analyticsariel.com                                                      |\n",
        "| External References   |  |\n",
        "| Input Datasets        | Training datasets Nov 2020, Mar 2021                                                    |\n",
        "| Output Datasets       | Topics |\n",
        "| Input Data Source     | Dataframe |\n",
        "| Output Data Source    | Dataframe, Visual |\n",
        "\n",
        "## History\n",
        "| Date         | Developed By  | Reason                                                |\n",
        "|--------------|---------------|-------------------------------------------------------|\n",
        "| 5th Apr 2021 | Ariel Herrera | Create LDA model |\n",
        "\n",
        "## Getting Started\n",
        "1. Copy this notebook -> File -> Save a Copy in Drive\n",
        "\n",
        "## Useful Resources\n",
        "- [Google Colab Cheat Sheet](https://towardsdatascience.com/cheat-sheet-for-google-colab-63853778c093)"
      ]
    },
    {
      "cell_type": "markdown",
      "metadata": {
        "id": "GtYFhWWZ51-z"
      },
      "source": [
        "## <font color=\"blue\">Install Packages</font>"
      ]
    },
    {
      "cell_type": "code",
      "metadata": {
        "colab": {
          "base_uri": "https://localhost:8080/"
        },
        "id": "V9S0hdhq504B",
        "outputId": "c6c12e76-69aa-44c3-bc8f-74d34e335b49"
      },
      "source": [
        "!pip install pyLDAvis==2.1.2"
      ],
      "execution_count": 1,
      "outputs": [
        {
          "output_type": "stream",
          "name": "stdout",
          "text": [
            "Looking in indexes: https://pypi.org/simple, https://us-python.pkg.dev/colab-wheels/public/simple/\n",
            "Collecting pyLDAvis==2.1.2\n",
            "  Downloading pyLDAvis-2.1.2.tar.gz (1.6 MB)\n",
            "\u001b[2K     \u001b[90m━━━━━━━━━━━━━━━━━━━━━━━━━━━━━━━━━━━━━━━━\u001b[0m \u001b[32m1.6/1.6 MB\u001b[0m \u001b[31m16.7 MB/s\u001b[0m eta \u001b[36m0:00:00\u001b[0m\n",
            "\u001b[?25h  Preparing metadata (setup.py) ... \u001b[?25l\u001b[?25hdone\n",
            "Requirement already satisfied: wheel>=0.23.0 in /usr/local/lib/python3.10/dist-packages (from pyLDAvis==2.1.2) (0.40.0)\n",
            "Requirement already satisfied: numpy>=1.9.2 in /usr/local/lib/python3.10/dist-packages (from pyLDAvis==2.1.2) (1.22.4)\n",
            "Requirement already satisfied: scipy>=0.18.0 in /usr/local/lib/python3.10/dist-packages (from pyLDAvis==2.1.2) (1.10.1)\n",
            "Requirement already satisfied: pandas>=0.17.0 in /usr/local/lib/python3.10/dist-packages (from pyLDAvis==2.1.2) (1.5.3)\n",
            "Requirement already satisfied: joblib>=0.8.4 in /usr/local/lib/python3.10/dist-packages (from pyLDAvis==2.1.2) (1.2.0)\n",
            "Requirement already satisfied: jinja2>=2.7.2 in /usr/local/lib/python3.10/dist-packages (from pyLDAvis==2.1.2) (3.1.2)\n",
            "Requirement already satisfied: numexpr in /usr/local/lib/python3.10/dist-packages (from pyLDAvis==2.1.2) (2.8.4)\n",
            "Requirement already satisfied: pytest in /usr/local/lib/python3.10/dist-packages (from pyLDAvis==2.1.2) (7.2.2)\n",
            "Requirement already satisfied: future in /usr/local/lib/python3.10/dist-packages (from pyLDAvis==2.1.2) (0.18.3)\n",
            "Collecting funcy (from pyLDAvis==2.1.2)\n",
            "  Downloading funcy-2.0-py2.py3-none-any.whl (30 kB)\n",
            "Requirement already satisfied: MarkupSafe>=2.0 in /usr/local/lib/python3.10/dist-packages (from jinja2>=2.7.2->pyLDAvis==2.1.2) (2.1.2)\n",
            "Requirement already satisfied: python-dateutil>=2.8.1 in /usr/local/lib/python3.10/dist-packages (from pandas>=0.17.0->pyLDAvis==2.1.2) (2.8.2)\n",
            "Requirement already satisfied: pytz>=2020.1 in /usr/local/lib/python3.10/dist-packages (from pandas>=0.17.0->pyLDAvis==2.1.2) (2022.7.1)\n",
            "Requirement already satisfied: attrs>=19.2.0 in /usr/local/lib/python3.10/dist-packages (from pytest->pyLDAvis==2.1.2) (23.1.0)\n",
            "Requirement already satisfied: iniconfig in /usr/local/lib/python3.10/dist-packages (from pytest->pyLDAvis==2.1.2) (2.0.0)\n",
            "Requirement already satisfied: packaging in /usr/local/lib/python3.10/dist-packages (from pytest->pyLDAvis==2.1.2) (23.1)\n",
            "Requirement already satisfied: pluggy<2.0,>=0.12 in /usr/local/lib/python3.10/dist-packages (from pytest->pyLDAvis==2.1.2) (1.0.0)\n",
            "Requirement already satisfied: exceptiongroup>=1.0.0rc8 in /usr/local/lib/python3.10/dist-packages (from pytest->pyLDAvis==2.1.2) (1.1.1)\n",
            "Requirement already satisfied: tomli>=1.0.0 in /usr/local/lib/python3.10/dist-packages (from pytest->pyLDAvis==2.1.2) (2.0.1)\n",
            "Requirement already satisfied: six>=1.5 in /usr/local/lib/python3.10/dist-packages (from python-dateutil>=2.8.1->pandas>=0.17.0->pyLDAvis==2.1.2) (1.16.0)\n",
            "Building wheels for collected packages: pyLDAvis\n",
            "  Building wheel for pyLDAvis (setup.py) ... \u001b[?25l\u001b[?25hdone\n",
            "  Created wheel for pyLDAvis: filename=pyLDAvis-2.1.2-py2.py3-none-any.whl size=97721 sha256=3428c3872104f20b82d7bb644e6a42398d384950c4bd7c3bd704e14b564a9bc7\n",
            "  Stored in directory: /root/.cache/pip/wheels/d9/93/d6/16c95da19c32f037fd75135ea152d0df37254c25cd1a8b4b6c\n",
            "Successfully built pyLDAvis\n",
            "Installing collected packages: funcy, pyLDAvis\n",
            "Successfully installed funcy-2.0 pyLDAvis-2.1.2\n"
          ]
        }
      ]
    },
    {
      "cell_type": "markdown",
      "metadata": {
        "id": "aPNfHER2y3O-"
      },
      "source": [
        "## <font color=\"blue\">Imports</font>"
      ]
    },
    {
      "cell_type": "code",
      "metadata": {
        "id": "LauDFMoRY8B6"
      },
      "source": [
        "# data transformations\n",
        "import os\n",
        "import re\n",
        "import numpy as np\n",
        "import pandas as pd\n",
        "from pprint import pprint\n",
        "\n",
        "# nlp\n",
        "import gensim\n",
        "import gensim.corpora as corpora\n",
        "from gensim.utils import simple_preprocess\n",
        "from gensim.models import CoherenceModel, LdaModel\n",
        "from gensim.test.utils import datapath\n",
        "import nltk\n",
        "\n",
        "# spacy for lemmatization\n",
        "import spacy\n",
        "\n",
        "# Plotting tools\n",
        "import pyLDAvis\n",
        "import pyLDAvis.gensim \n",
        "import matplotlib.pyplot as plt\n",
        "import plotly.express as px\n",
        "import plotly.graph_objects as go\n",
        "\n",
        "%matplotlib inline\n",
        "\n",
        "# Enable logging for gensim - optional\n",
        "import logging\n",
        "logging.basicConfig(format='%(asctime)s : %(levelname)s : %(message)s', level=logging.ERROR)\n",
        "\n",
        "import warnings\n",
        "warnings.filterwarnings(\"ignore\",category=DeprecationWarning)"
      ],
      "execution_count": 2,
      "outputs": []
    },
    {
      "cell_type": "code",
      "metadata": {
        "colab": {
          "base_uri": "https://localhost:8080/"
        },
        "id": "sZktm5pj3mA6",
        "outputId": "b9e6f59e-f4a2-45d6-a21b-917406acea9c"
      },
      "source": [
        "nltk.download('stopwords')"
      ],
      "execution_count": 3,
      "outputs": [
        {
          "output_type": "stream",
          "name": "stderr",
          "text": [
            "[nltk_data] Downloading package stopwords to /root/nltk_data...\n",
            "[nltk_data]   Unzipping corpora/stopwords.zip.\n"
          ]
        },
        {
          "output_type": "execute_result",
          "data": {
            "text/plain": [
              "True"
            ]
          },
          "metadata": {},
          "execution_count": 3
        }
      ]
    },
    {
      "cell_type": "markdown",
      "metadata": {
        "id": "rHCc76otzAeL"
      },
      "source": [
        "## <font color=\"blue\">Functions</font>"
      ]
    },
    {
      "cell_type": "code",
      "metadata": {
        "id": "OW9CT0n9zAJp"
      },
      "source": [
        "def read_training_data(file_dir):\n",
        "  \"\"\"\n",
        "  Read in both training datasets (Nov 2020 & March 2021)\n",
        "  \"\"\"\n",
        "  _df1 = pd.read_csv(file_dir + 'READI_NLP_Training_Dataset_v1.csv')\n",
        "  _df2 = pd.read_csv(file_dir + 'READI_NLP_Training_Dataset_v2.csv')\n",
        "\n",
        "  # label dataset tpes\n",
        "  _df1['dataset_type'] = 'v1'\n",
        "  _df2['dataset_type'] = 'v2'\n",
        "\n",
        "  # union\n",
        "  _df = pd.concat([_df1, _df2])\n",
        "  _df.columns = [c.replace(\" \", \"_\") for c in _df.columns] # format cols\n",
        "\n",
        "  # clean up labels, replace nulls with \"unknown\"\n",
        "  _df_null = _df.loc[_df['human_label'].isnull()]\n",
        "  _df_null['human_label'] = \"unknown\"\n",
        "  _df_not_null = _df.loc[~(_df['human_label'].isnull())]\n",
        "\n",
        "  # union, sort values\n",
        "  df = pd.concat([_df_null, _df_not_null])\n",
        "  return df.sort_values(by=['dataset_type', 'state_code', 'city'])"
      ],
      "execution_count": 4,
      "outputs": []
    },
    {
      "cell_type": "code",
      "metadata": {
        "id": "fFUx1tQFDNDZ"
      },
      "source": [
        "def sent_to_words(sentences):\n",
        "    for sentence in sentences:\n",
        "        yield(gensim.utils.simple_preprocess(str(sentence), deacc=True))  # deacc=True removes punctuations\n",
        "\n",
        "def remove_stopwords(texts):\n",
        "    keep_list = [\"as\", \"is\", \"no\", \"only\"]\n",
        "    for w in keep_list:\n",
        "      if w in stop_words:\n",
        "        stop_words.remove(w)\n",
        "    return [[word for word in simple_preprocess(str(doc)) if word not in stop_words] for doc in texts]\n",
        "\n",
        "def make_bigrams(texts):\n",
        "    return [bigram_mod[doc] for doc in texts]\n",
        "\n",
        "def make_trigrams(texts):\n",
        "    return [trigram_mod[bigram_mod[doc]] for doc in texts]\n",
        "\n",
        "def lemmatization(texts, allowed_postags=['NOUN', 'ADJ', 'VERB', 'ADV'], allowed_words=[]):\n",
        "    \"\"\"https://spacy.io/api/annotation\"\"\"\n",
        "    texts_out = []\n",
        "    for sent in texts:\n",
        "        doc = nlp(\" \".join(sent)) \n",
        "        # keep words in allowed list and if they are bigrams\n",
        "        texts_out.append([token.lemma_ for token in doc if (token.pos_ in allowed_postags) or (str(token) in allowed_words) or (\"_\" in str(token))])\n",
        "    return texts_out"
      ],
      "execution_count": 5,
      "outputs": []
    },
    {
      "cell_type": "code",
      "metadata": {
        "id": "WuISkOKVBMr6"
      },
      "source": [
        "def compute_coherence_values(dictionary, corpus, texts, limit, start=2, step=3):\n",
        "    \"\"\"\n",
        "    Compute c_v coherence for various number of topics\n",
        "\n",
        "    Parameters:\n",
        "    ----------\n",
        "    dictionary : Gensim dictionary\n",
        "    corpus : Gensim corpus\n",
        "    texts : List of input texts\n",
        "    limit : Max num of topics\n",
        "\n",
        "    Returns:\n",
        "    -------\n",
        "    model_list : List of LDA topic models\n",
        "    coherence_values : Coherence values corresponding to the LDA model with respective number of topics\n",
        "    \"\"\"\n",
        "    coherence_values = []\n",
        "    model_list = []\n",
        "    for num_topics in range(start, limit, step):\n",
        "        model = gensim.models.ldamodel.LdaModel(corpus=corpus,\n",
        "                                           id2word=id2word,\n",
        "                                           num_topics=num_topics, \n",
        "                                           random_state=100,\n",
        "                                           update_every=1,\n",
        "                                           chunksize=100,\n",
        "                                           passes=10,\n",
        "                                           alpha='auto',\n",
        "                                           per_word_topics=True)\n",
        "        model_list.append(model)\n",
        "        coherencemodel = CoherenceModel(model=model, texts=texts, dictionary=dictionary, coherence='c_v')\n",
        "        coherence_values.append(coherencemodel.get_coherence())\n",
        "\n",
        "    return model_list, coherence_values"
      ],
      "execution_count": 6,
      "outputs": []
    },
    {
      "cell_type": "code",
      "metadata": {
        "id": "LpG1O059vRFc"
      },
      "source": [
        "def format_topics_sentences(ldamodel, corpus, texts):\n",
        "  # Init output\n",
        "  sent_topics_df = pd.DataFrame()\n",
        "\n",
        "  # Get main topic in each document\n",
        "  for i, row in enumerate(ldamodel[corpus]):\n",
        "      row = sorted(row[0], key=lambda x: (x[1]), reverse=True)\n",
        "      # Get the Dominant topic, Perc Contribution and Keywords for each document\n",
        "      for j, (topic_num, prop_topic) in enumerate(row):\n",
        "          if j == 0:  # => dominant topic\n",
        "              wp = ldamodel.show_topic(topic_num)\n",
        "              topic_keywords = \", \".join([word for word, prop in wp])\n",
        "              sent_topics_df = sent_topics_df.append(pd.Series([int(topic_num), round(prop_topic,4), topic_keywords]), ignore_index=True)\n",
        "          else:\n",
        "              break\n",
        "  sent_topics_df.columns = ['Dominant_Topic', 'Perc_Contribution', 'Topic_Keywords']\n",
        "\n",
        "  # Add original text to the end of the output\n",
        "  contents = pd.Series(texts)\n",
        "  sent_topics_df = pd.concat([sent_topics_df, contents], axis=1)\n",
        "  return(sent_topics_df)"
      ],
      "execution_count": 7,
      "outputs": []
    },
    {
      "cell_type": "markdown",
      "metadata": {
        "id": "fFGwbXyjy7Ci"
      },
      "source": [
        "## <font color=\"blue\">Local & Constants</font>"
      ]
    },
    {
      "cell_type": "code",
      "source": [
        "from google.colab import output, drive\n",
        "# mount drive\n",
        "drive.mount(\"/content/drive\", force_remount=False)"
      ],
      "metadata": {
        "colab": {
          "base_uri": "https://localhost:8080/"
        },
        "id": "UZqbhSvTrfSH",
        "outputId": "333d0030-7333-444b-bf64-4a60aa352d86"
      },
      "execution_count": 8,
      "outputs": [
        {
          "output_type": "stream",
          "name": "stdout",
          "text": [
            "Mounted at /content/drive\n"
          ]
        }
      ]
    },
    {
      "cell_type": "code",
      "metadata": {
        "id": "Jn7aK6lJWqq8"
      },
      "source": [
        "# data location\n",
        "base_dir = '/content/drive/My Drive/Colab Notebooks/READI/data/'\n",
        "file_dir = base_dir + 'input/'\n",
        "\n",
        "# remove warnings\n",
        "warnings.filterwarnings('ignore')"
      ],
      "execution_count": 9,
      "outputs": []
    },
    {
      "cell_type": "markdown",
      "metadata": {
        "id": "s8l-BNuoy7Te"
      },
      "source": [
        "## <font color=\"blue\">Data</font>"
      ]
    },
    {
      "cell_type": "code",
      "metadata": {
        "id": "wieU0VdRZBIP",
        "colab": {
          "base_uri": "https://localhost:8080/",
          "height": 354
        },
        "outputId": "2009c9ca-241a-4741-d2bb-9fb6b0cab7b5"
      },
      "source": [
        "# read data\n",
        "df = read_training_data(file_dir='https://raw.githubusercontent.com/analyticsariel/public-data/main/')\n",
        "print('Length of training data:', len(df))\n",
        "df.head()"
      ],
      "execution_count": 10,
      "outputs": [
        {
          "output_type": "stream",
          "name": "stdout",
          "text": [
            "Length of training data: 12637\n"
          ]
        },
        {
          "output_type": "execute_result",
          "data": {
            "text/plain": [
              "                 line        city state_code  postal_code  property_id  \\\n",
              "234      3705 7th Ave  Birmingham         AL        35224  M7358062309   \n",
              "261     1148 1st St N  Birmingham         AL        35204  M7067072160   \n",
              "294  1229 15th Way SW  Birmingham         AL        35211  M7396479920   \n",
              "427     426 80th St S  Birmingham         AL        35206  M8264613223   \n",
              "461  914 Knoxville Pl  Birmingham         AL        35224  M7604129328   \n",
              "\n",
              "                                           rdc_web_url  \\\n",
              "234  https://www.realtor.com/realestateandhomes-det...   \n",
              "261  https://www.realtor.com/realestateandhomes-det...   \n",
              "294  https://www.realtor.com/realestateandhomes-det...   \n",
              "427  https://www.realtor.com/realestateandhomes-det...   \n",
              "461  https://www.realtor.com/realestateandhomes-det...   \n",
              "\n",
              "                                  original_description  \\\n",
              "234  Calling All Investors!! Home sold AS IS This i...   \n",
              "261  Solid investment property with great bones and...   \n",
              "294  Investment property currently rented at $795 p...   \n",
              "427  This 4 sides brick home is the ideal investmen...   \n",
              "461  Don't miss out on this four sided brick home! ...   \n",
              "\n",
              "                                normalized_description keyword_label  \\\n",
              "234  call investors home sell nice split level home...    distressed   \n",
              "261  solid investment property great bone fantastic...    distressed   \n",
              "294  investment property currently rent 795 per mon...    distressed   \n",
              "427  4 side brick home ideal investment property wh...    distressed   \n",
              "461  dont miss four side brick home home would grea...    distressed   \n",
              "\n",
              "        human_label dataset_type  \n",
              "234      distressed           v1  \n",
              "261      distressed           v1  \n",
              "294  not-distressed           v1  \n",
              "427      distressed           v1  \n",
              "461      distressed           v1  "
            ],
            "text/html": [
              "\n",
              "  <div id=\"df-79efcf8b-8e5a-49e9-a284-ff6f57ac9041\">\n",
              "    <div class=\"colab-df-container\">\n",
              "      <div>\n",
              "<style scoped>\n",
              "    .dataframe tbody tr th:only-of-type {\n",
              "        vertical-align: middle;\n",
              "    }\n",
              "\n",
              "    .dataframe tbody tr th {\n",
              "        vertical-align: top;\n",
              "    }\n",
              "\n",
              "    .dataframe thead th {\n",
              "        text-align: right;\n",
              "    }\n",
              "</style>\n",
              "<table border=\"1\" class=\"dataframe\">\n",
              "  <thead>\n",
              "    <tr style=\"text-align: right;\">\n",
              "      <th></th>\n",
              "      <th>line</th>\n",
              "      <th>city</th>\n",
              "      <th>state_code</th>\n",
              "      <th>postal_code</th>\n",
              "      <th>property_id</th>\n",
              "      <th>rdc_web_url</th>\n",
              "      <th>original_description</th>\n",
              "      <th>normalized_description</th>\n",
              "      <th>keyword_label</th>\n",
              "      <th>human_label</th>\n",
              "      <th>dataset_type</th>\n",
              "    </tr>\n",
              "  </thead>\n",
              "  <tbody>\n",
              "    <tr>\n",
              "      <th>234</th>\n",
              "      <td>3705 7th Ave</td>\n",
              "      <td>Birmingham</td>\n",
              "      <td>AL</td>\n",
              "      <td>35224</td>\n",
              "      <td>M7358062309</td>\n",
              "      <td>https://www.realtor.com/realestateandhomes-det...</td>\n",
              "      <td>Calling All Investors!! Home sold AS IS This i...</td>\n",
              "      <td>call investors home sell nice split level home...</td>\n",
              "      <td>distressed</td>\n",
              "      <td>distressed</td>\n",
              "      <td>v1</td>\n",
              "    </tr>\n",
              "    <tr>\n",
              "      <th>261</th>\n",
              "      <td>1148 1st St N</td>\n",
              "      <td>Birmingham</td>\n",
              "      <td>AL</td>\n",
              "      <td>35204</td>\n",
              "      <td>M7067072160</td>\n",
              "      <td>https://www.realtor.com/realestateandhomes-det...</td>\n",
              "      <td>Solid investment property with great bones and...</td>\n",
              "      <td>solid investment property great bone fantastic...</td>\n",
              "      <td>distressed</td>\n",
              "      <td>distressed</td>\n",
              "      <td>v1</td>\n",
              "    </tr>\n",
              "    <tr>\n",
              "      <th>294</th>\n",
              "      <td>1229 15th Way SW</td>\n",
              "      <td>Birmingham</td>\n",
              "      <td>AL</td>\n",
              "      <td>35211</td>\n",
              "      <td>M7396479920</td>\n",
              "      <td>https://www.realtor.com/realestateandhomes-det...</td>\n",
              "      <td>Investment property currently rented at $795 p...</td>\n",
              "      <td>investment property currently rent 795 per mon...</td>\n",
              "      <td>distressed</td>\n",
              "      <td>not-distressed</td>\n",
              "      <td>v1</td>\n",
              "    </tr>\n",
              "    <tr>\n",
              "      <th>427</th>\n",
              "      <td>426 80th St S</td>\n",
              "      <td>Birmingham</td>\n",
              "      <td>AL</td>\n",
              "      <td>35206</td>\n",
              "      <td>M8264613223</td>\n",
              "      <td>https://www.realtor.com/realestateandhomes-det...</td>\n",
              "      <td>This 4 sides brick home is the ideal investmen...</td>\n",
              "      <td>4 side brick home ideal investment property wh...</td>\n",
              "      <td>distressed</td>\n",
              "      <td>distressed</td>\n",
              "      <td>v1</td>\n",
              "    </tr>\n",
              "    <tr>\n",
              "      <th>461</th>\n",
              "      <td>914 Knoxville Pl</td>\n",
              "      <td>Birmingham</td>\n",
              "      <td>AL</td>\n",
              "      <td>35224</td>\n",
              "      <td>M7604129328</td>\n",
              "      <td>https://www.realtor.com/realestateandhomes-det...</td>\n",
              "      <td>Don't miss out on this four sided brick home! ...</td>\n",
              "      <td>dont miss four side brick home home would grea...</td>\n",
              "      <td>distressed</td>\n",
              "      <td>distressed</td>\n",
              "      <td>v1</td>\n",
              "    </tr>\n",
              "  </tbody>\n",
              "</table>\n",
              "</div>\n",
              "      <button class=\"colab-df-convert\" onclick=\"convertToInteractive('df-79efcf8b-8e5a-49e9-a284-ff6f57ac9041')\"\n",
              "              title=\"Convert this dataframe to an interactive table.\"\n",
              "              style=\"display:none;\">\n",
              "        \n",
              "  <svg xmlns=\"http://www.w3.org/2000/svg\" height=\"24px\"viewBox=\"0 0 24 24\"\n",
              "       width=\"24px\">\n",
              "    <path d=\"M0 0h24v24H0V0z\" fill=\"none\"/>\n",
              "    <path d=\"M18.56 5.44l.94 2.06.94-2.06 2.06-.94-2.06-.94-.94-2.06-.94 2.06-2.06.94zm-11 1L8.5 8.5l.94-2.06 2.06-.94-2.06-.94L8.5 2.5l-.94 2.06-2.06.94zm10 10l.94 2.06.94-2.06 2.06-.94-2.06-.94-.94-2.06-.94 2.06-2.06.94z\"/><path d=\"M17.41 7.96l-1.37-1.37c-.4-.4-.92-.59-1.43-.59-.52 0-1.04.2-1.43.59L10.3 9.45l-7.72 7.72c-.78.78-.78 2.05 0 2.83L4 21.41c.39.39.9.59 1.41.59.51 0 1.02-.2 1.41-.59l7.78-7.78 2.81-2.81c.8-.78.8-2.07 0-2.86zM5.41 20L4 18.59l7.72-7.72 1.47 1.35L5.41 20z\"/>\n",
              "  </svg>\n",
              "      </button>\n",
              "      \n",
              "  <style>\n",
              "    .colab-df-container {\n",
              "      display:flex;\n",
              "      flex-wrap:wrap;\n",
              "      gap: 12px;\n",
              "    }\n",
              "\n",
              "    .colab-df-convert {\n",
              "      background-color: #E8F0FE;\n",
              "      border: none;\n",
              "      border-radius: 50%;\n",
              "      cursor: pointer;\n",
              "      display: none;\n",
              "      fill: #1967D2;\n",
              "      height: 32px;\n",
              "      padding: 0 0 0 0;\n",
              "      width: 32px;\n",
              "    }\n",
              "\n",
              "    .colab-df-convert:hover {\n",
              "      background-color: #E2EBFA;\n",
              "      box-shadow: 0px 1px 2px rgba(60, 64, 67, 0.3), 0px 1px 3px 1px rgba(60, 64, 67, 0.15);\n",
              "      fill: #174EA6;\n",
              "    }\n",
              "\n",
              "    [theme=dark] .colab-df-convert {\n",
              "      background-color: #3B4455;\n",
              "      fill: #D2E3FC;\n",
              "    }\n",
              "\n",
              "    [theme=dark] .colab-df-convert:hover {\n",
              "      background-color: #434B5C;\n",
              "      box-shadow: 0px 1px 3px 1px rgba(0, 0, 0, 0.15);\n",
              "      filter: drop-shadow(0px 1px 2px rgba(0, 0, 0, 0.3));\n",
              "      fill: #FFFFFF;\n",
              "    }\n",
              "  </style>\n",
              "\n",
              "      <script>\n",
              "        const buttonEl =\n",
              "          document.querySelector('#df-79efcf8b-8e5a-49e9-a284-ff6f57ac9041 button.colab-df-convert');\n",
              "        buttonEl.style.display =\n",
              "          google.colab.kernel.accessAllowed ? 'block' : 'none';\n",
              "\n",
              "        async function convertToInteractive(key) {\n",
              "          const element = document.querySelector('#df-79efcf8b-8e5a-49e9-a284-ff6f57ac9041');\n",
              "          const dataTable =\n",
              "            await google.colab.kernel.invokeFunction('convertToInteractive',\n",
              "                                                     [key], {});\n",
              "          if (!dataTable) return;\n",
              "\n",
              "          const docLinkHtml = 'Like what you see? Visit the ' +\n",
              "            '<a target=\"_blank\" href=https://colab.research.google.com/notebooks/data_table.ipynb>data table notebook</a>'\n",
              "            + ' to learn more about interactive tables.';\n",
              "          element.innerHTML = '';\n",
              "          dataTable['output_type'] = 'display_data';\n",
              "          await google.colab.output.renderOutput(dataTable, element);\n",
              "          const docLink = document.createElement('div');\n",
              "          docLink.innerHTML = docLinkHtml;\n",
              "          element.appendChild(docLink);\n",
              "        }\n",
              "      </script>\n",
              "    </div>\n",
              "  </div>\n",
              "  "
            ]
          },
          "metadata": {},
          "execution_count": 10
        }
      ]
    },
    {
      "cell_type": "code",
      "metadata": {
        "id": "sHv6DeATbH7w",
        "colab": {
          "base_uri": "https://localhost:8080/"
        },
        "outputId": "ffb85261-fdca-4776-f523-f22611da7b34"
      },
      "source": [
        "# group by label\n",
        "df.groupby(['human_label'])['line'].count()"
      ],
      "execution_count": 11,
      "outputs": [
        {
          "output_type": "execute_result",
          "data": {
            "text/plain": [
              "human_label\n",
              "distressed        1740\n",
              "not-distressed    1440\n",
              "remove             135\n",
              "undecided          178\n",
              "unknown           9144\n",
              "Name: line, dtype: int64"
            ]
          },
          "metadata": {},
          "execution_count": 11
        }
      ]
    },
    {
      "cell_type": "markdown",
      "metadata": {
        "id": "Txht6S9PzKqJ"
      },
      "source": [
        "## <font color=\"blue\">Transformations</font>\n",
        "Resources\n",
        "\n",
        "\n",
        "*   [Topic Modeling with Gensim (Python)](https://www.machinelearningplus.com/nlp/topic-modeling-gensim-python/#14computemodelperplexityandcoherencescore)\n",
        "*   [MALLET from UMASS](http://mallet.cs.umass.edu/)\n",
        "\n"
      ]
    },
    {
      "cell_type": "markdown",
      "metadata": {
        "id": "0irxBjOAz5z6"
      },
      "source": [
        "### <font color=\"green\">Preprocessing</font>\n",
        "The following are key factors to obtaining good segregation topics:\n",
        "\n",
        "1.   The quality of text processing.\n",
        "2.   The variety of topics the text talks about.\n",
        "3.   The choice of topic modeling algorithm.\n",
        "4.   The number of topics fed to the algorithm.\n",
        "5.   The algorithms tuning parameters."
      ]
    },
    {
      "cell_type": "code",
      "metadata": {
        "id": "lpkgAVae-APx",
        "colab": {
          "base_uri": "https://localhost:8080/"
        },
        "outputId": "0cd7581d-7690-406e-a447-6a99dc944127"
      },
      "source": [
        "# set list of text\n",
        "text = df.original_description.values.tolist()\n",
        "text[:10]"
      ],
      "execution_count": 12,
      "outputs": [
        {
          "output_type": "execute_result",
          "data": {
            "text/plain": [
              "['Calling All Investors!! Home sold AS IS This is a nice split level home corned lot home. Great investment property! Just need some TLC.',\n",
              " 'Solid investment property with great bones and fantastic location. All brick home with tons of space. Fix and flip or add to your rental properties. You will not want to let this one get away! Bedrooms are large, living room and separate den/living area. Spacious kitchen and separate dining area.',\n",
              " 'Investment property currently rented at $795 per month. Recently renovated and professionally managed. Terrific street. Step right in to cashflow! Lease runs until January. 48hr notice required for showings.',\n",
              " 'This 4 sides brick home is the ideal investment property. Whether you are new to the investment world or you are a seasoned veteran, this property is cash flowing with a tenant in place. No immediate expenditures necessary. The market in this area is hot and ripe! So run your numbers and take advantage of this deal today!',\n",
              " \"Don't miss out on this four sided brick home! This home would be great for an investor ( 3 lots) or with a little TLC you could make it yours. (Sold AS Is ) It has two wood burning fireplaces and a life time metal roof and two additional bedrooms. There is a spacious room for laundry as well as 2 additional lots with large yard for outside entertainment. Make an offer today!!\",\n",
              " 'Great rental property or beginner home! Corner Lot. Needs TLC-pics are not updated',\n",
              " \"Little Darling has 3 bedrooms, 1 full bath and a half bath in the master bedroom. Home is owner occupied and have been loved on by the owners. Walk on the porch where you can sit out and the outside. Enter through front door into the living room, dining room combo with hardwood floors to compliment the room. The kitchen is open to so you can converse with family in the dining room or living. The gas stove and refrigerator remain. The carpeted, master bedroom and half bath was added several years ago by the current owners per them. The 2 bedrooms have vinyl flooring. The roof was done a few years ago and a new gas hot water tank was installed in October 2020 per the sellers. They have enjoyed the home! Buyers to due diligence on any information of importance to satisfy themselves. No central heat & air. There is a window unit with air & heat together that will remain and a gas heater connected to the gas line that will remain for heating. It's waiting for new owners! SOLD AS-IS, AS-IS\",\n",
              " '3 bedrooms 2 bath with a extra lot. Walk in the living room with a fireplace. To the left is a dinigroom. To the right is the master bedroom & bath, Bedroom 2 and a hall bath. The kitchen is open with space for a eating table. Bedroom 3 is on the other side of the kitchen. There is a den with a computer/office area that leads out to the back porch. With TLC this home can be updated to your desire. Sold as-is. Buyer to verify all information of importance.',\n",
              " \"You must see this 3 bedroom 1 bathroom home. All it needs is you and some TLC. Call an agent today to see this one! Property is owned by the US Dept. of HUD. Case Number 011-720934, IE (Insured Escrow), subject to appraisal. Seller makes no representations or warranties as to property condition. HUD homes are sold As-Is. Equal Housing Opportunity. All properties built prior to 1978 must have lead base paint notice. Right of redemption may apply. Seller may contribute up to 3% for buyer's closing costs, upon buyer request. It is the buyer's responsibility to have the structure prepared (De-winterized) by a licensed and insured contractor/plumber prior to utility activation at buyer's expense during the inspection period. HUD DOES NOT PROVIDE KEYS TO BUYER. BUYER MUST REKEY LOCKS AFTER CLOSING.\",\n",
              " \"Investors: looking for a quiet house to convert into a business? Plenty parking, secluded location within the city. Online business? Social club? Don't miss your opportunity for this perfect location. property sold As-Is! Located on Hwy US-78/Arkadelphia Road, and Downtown Birmingham. Seller is motivated! This property won't last long, make an offer today!\"]"
            ]
          },
          "metadata": {},
          "execution_count": 12
        }
      ]
    },
    {
      "cell_type": "code",
      "metadata": {
        "id": "nLxDz-nlbP_a"
      },
      "source": [
        "# prepare stop words\n",
        "stop_words = nltk.corpus.stopwords.words('english')\n",
        "stop_words.extend([]) # add stop words here"
      ],
      "execution_count": 13,
      "outputs": []
    },
    {
      "cell_type": "code",
      "metadata": {
        "id": "-l0J5oEP9uXD",
        "colab": {
          "base_uri": "https://localhost:8080/"
        },
        "outputId": "83639c03-f194-4390-bc64-a476dc501936"
      },
      "source": [
        "# tokenize and clean up text\n",
        "data_words = list(sent_to_words(text))\n",
        "print(data_words[:1])"
      ],
      "execution_count": 14,
      "outputs": [
        {
          "output_type": "stream",
          "name": "stdout",
          "text": [
            "[['calling', 'all', 'investors', 'home', 'sold', 'as', 'is', 'this', 'is', 'nice', 'split', 'level', 'home', 'corned', 'lot', 'home', 'great', 'investment', 'property', 'just', 'need', 'some', 'tlc']]\n"
          ]
        }
      ]
    },
    {
      "cell_type": "code",
      "metadata": {
        "id": "b1IdfZu89uVd",
        "colab": {
          "base_uri": "https://localhost:8080/"
        },
        "outputId": "b43b122f-8d7a-44d3-d81c-76769d754f5e"
      },
      "source": [
        "# Build the bigram and trigram models\n",
        "bigram = gensim.models.Phrases(data_words, min_count=5, threshold=30) # higher threshold fewer phrases.\n",
        "trigram = gensim.models.Phrases(bigram[data_words], threshold=10)  \n",
        "\n",
        "# Faster way to get a sentence clubbed as a trigram/bigram\n",
        "bigram_mod = gensim.models.phrases.Phraser(bigram)\n",
        "trigram_mod = gensim.models.phrases.Phraser(trigram)\n",
        "\n",
        "# See trigram example\n",
        "print(trigram_mod[bigram_mod[data_words[0]]])"
      ],
      "execution_count": 15,
      "outputs": [
        {
          "output_type": "stream",
          "name": "stdout",
          "text": [
            "['calling_all', 'investors', 'home', 'sold_as_is', 'this', 'is', 'nice', 'split_level', 'home', 'corned', 'lot', 'home', 'great_investment', 'property', 'just', 'need_some_tlc']\n"
          ]
        }
      ]
    },
    {
      "cell_type": "code",
      "metadata": {
        "id": "rMbQq8iF-2uG",
        "colab": {
          "base_uri": "https://localhost:8080/"
        },
        "outputId": "99a9d4de-d4f9-425e-bfbd-e4003cea705c"
      },
      "source": [
        "# Remove Stop Words\n",
        "data_words_nostops = remove_stopwords(data_words)\n",
        "\n",
        "# Form Bigrams\n",
        "data_words_bigrams = make_bigrams(data_words_nostops)\n",
        "\n",
        "# Initialize spacy 'en' model, keeping only tagger component (for efficiency)\n",
        "# python3 -m spacy download en\n",
        "nlp = spacy.load(\"en_core_web_sm\")\n",
        "# nlp = spacy.load('en', disable=['parser', 'ner'])\n",
        "\n",
        "# Do lemmatization keeping only noun, adj, vb, adv\n",
        "data_lemmatized = lemmatization(data_words_bigrams, allowed_words=['tlc', 'rental', 'cashflow', 'rehab', \n",
        "                                                                  #  'fix_flip', 'hud_case', 'insured_escrow',\n",
        "                                                                  #  'last_long', 'fixer_upper', 'cash_flowing',\n",
        "                                                                  #  'rental_portfolio', 'attention_investors', 'turn_key',\n",
        "                                                                  #  'highest_best', 'sold_as'\n",
        "                                                                   ])\n",
        "\n",
        "print(data_lemmatized[:1])"
      ],
      "execution_count": 16,
      "outputs": [
        {
          "output_type": "stream",
          "name": "stdout",
          "text": [
            "[['call', 'investor', 'home', 'sold_as', 'nice', 'split', 'level', 'home', 'corn', 'lot', 'home', 'great', 'investment', 'property', 'need', 'tlc']]\n"
          ]
        }
      ]
    },
    {
      "cell_type": "code",
      "metadata": {
        "colab": {
          "base_uri": "https://localhost:8080/"
        },
        "id": "YG0IZqfyi6RI",
        "outputId": "e3b5c6a6-eefa-4169-d242-bc0a94a61a3d"
      },
      "source": [
        "# view_example\n",
        "idx = 23\n",
        "print(\"ORIGINAL:\")\n",
        "print(df['original_description'].iloc[idx])\n",
        "print(\"NO STOP WORDS:\")\n",
        "print(' '.join(data_words_nostops[idx]))\n",
        "print(\"BIGRAM:\")\n",
        "print(' '.join(data_words_bigrams[idx]))\n",
        "print(\"LEMMATIZE:\")\n",
        "print(' '.join(data_lemmatized[idx]))"
      ],
      "execution_count": 17,
      "outputs": [
        {
          "output_type": "stream",
          "name": "stdout",
          "text": [
            "ORIGINAL:\n",
            "Green Acres-Central Park area, Great Price for this fixer upper, easy to view, All Information Should Be Independently Verified.\n",
            "NO STOP WORDS:\n",
            "green acres central park area great price fixer upper easy view information independently verified\n",
            "BIGRAM:\n",
            "green acres central park area great price fixer_upper easy view information independently_verified\n",
            "LEMMATIZE:\n",
            "acre central park area great price fixer_upper easy view information independently_verifie\n"
          ]
        }
      ]
    },
    {
      "cell_type": "code",
      "metadata": {
        "id": "5Pkk4mYR_CKs",
        "colab": {
          "base_uri": "https://localhost:8080/"
        },
        "outputId": "19a7400f-da60-43c6-c91b-ada116ed3a22"
      },
      "source": [
        "# Create Dictionary\n",
        "id2word = corpora.Dictionary(data_lemmatized)\n",
        "\n",
        "# Create Corpus\n",
        "texts = data_lemmatized\n",
        "\n",
        "# Term Document Frequency\n",
        "corpus = [id2word.doc2bow(text) for text in texts]\n",
        "\n",
        "# View\n",
        "# print(corpus[:1])\n",
        "# Human readable format of corpus (term-frequency)\n",
        "[[(id2word[id], freq) for id, freq in cp] for cp in corpus[:1]]"
      ],
      "execution_count": 18,
      "outputs": [
        {
          "output_type": "execute_result",
          "data": {
            "text/plain": [
              "[[('call', 1),\n",
              "  ('corn', 1),\n",
              "  ('great', 1),\n",
              "  ('home', 3),\n",
              "  ('investment', 1),\n",
              "  ('investor', 1),\n",
              "  ('level', 1),\n",
              "  ('lot', 1),\n",
              "  ('need', 1),\n",
              "  ('nice', 1),\n",
              "  ('property', 1),\n",
              "  ('sold_as', 1),\n",
              "  ('split', 1),\n",
              "  ('tlc', 1)]]"
            ]
          },
          "metadata": {},
          "execution_count": 18
        }
      ]
    },
    {
      "cell_type": "markdown",
      "metadata": {
        "id": "RpvCBhXxz9KU"
      },
      "source": [
        "## <font color=\"blue\">Modeling</font>"
      ]
    },
    {
      "cell_type": "markdown",
      "metadata": {
        "id": "q5ip-2fQ2JPX"
      },
      "source": [
        "### <font color=\"green\">Unsupervised</font>"
      ]
    },
    {
      "cell_type": "markdown",
      "metadata": {
        "id": "QdCsZGwi0AXO"
      },
      "source": [
        "#### <font color=\"purple\">Topic Modeling: LDA</font>"
      ]
    },
    {
      "cell_type": "code",
      "metadata": {
        "id": "FVxoGSPY0Dt9"
      },
      "source": [
        "# Build LDA model\n",
        "lda_model = gensim.models.ldamodel.LdaModel(corpus=corpus,\n",
        "                                           id2word=id2word,\n",
        "                                           num_topics=4, \n",
        "                                           random_state=100,\n",
        "                                           update_every=1,\n",
        "                                           chunksize=100,\n",
        "                                           passes=10,\n",
        "                                           alpha='auto',\n",
        "                                           per_word_topics=True)"
      ],
      "execution_count": 19,
      "outputs": []
    },
    {
      "cell_type": "code",
      "metadata": {
        "id": "h7Iz3Xrp_y5X",
        "colab": {
          "base_uri": "https://localhost:8080/"
        },
        "outputId": "67806a5c-11a5-4de0-bd0c-b7a1cb18203b"
      },
      "source": [
        "# Print the Keyword in the topics\n",
        "pprint(lda_model.print_topics())\n",
        "doc_lda = lda_model[corpus]"
      ],
      "execution_count": 20,
      "outputs": [
        {
          "output_type": "stream",
          "name": "stdout",
          "text": [
            "[(0,\n",
            "  '0.039*\"buyer\" + 0.028*\"seller\" + 0.027*\"offer\" + 0.023*\"pm\" + '\n",
            "  '0.019*\"verify\" + 0.017*\"due\" + 0.017*\"obtain\" + 0.016*\"property\" + '\n",
            "  '0.016*\"multiple_offer\" + 0.012*\"agent\"'),\n",
            " (1,\n",
            "  '0.036*\"room\" + 0.034*\"bedroom\" + 0.029*\"home\" + 0.024*\"large\" + '\n",
            "  '0.018*\"kitchen\" + 0.018*\"bath\" + 0.016*\"space\" + 0.014*\"living\" + '\n",
            "  '0.012*\"area\" + 0.012*\"yard\"'),\n",
            " (2,\n",
            "  '0.058*\"home\" + 0.032*\"great\" + 0.016*\"lot\" + 0.015*\"property\" + '\n",
            "  '0.014*\"close\" + 0.014*\"location\" + 0.012*\"make\" + 0.011*\"potential\" + '\n",
            "  '0.010*\"downtown\" + 0.010*\"bath\"'),\n",
            " (3,\n",
            "  '0.123*\"new\" + 0.038*\"update\" + 0.029*\"floor\" + 0.023*\"roof\" + '\n",
            "  '0.021*\"window\" + 0.020*\"kitchen\" + 0.019*\"appliance\" + 0.017*\"paint\" + '\n",
            "  '0.016*\"home\" + 0.015*\"bathroom\"')]\n"
          ]
        }
      ]
    },
    {
      "cell_type": "code",
      "metadata": {
        "id": "pbD9jIQi_4QU",
        "colab": {
          "base_uri": "https://localhost:8080/"
        },
        "outputId": "49aa761a-9cc3-4342-e2e0-67e72ce3e8c0"
      },
      "source": [
        "# Compute Perplexity\n",
        "print('\\nPerplexity: ', lda_model.log_perplexity(corpus))  # a measure of how good the model is. lower the better.\n",
        "\n",
        "# Compute Coherence Score\n",
        "coherence_model_lda = CoherenceModel(model=lda_model, texts=data_lemmatized, dictionary=id2word, coherence='c_v')\n",
        "coherence_lda = coherence_model_lda.get_coherence()\n",
        "print('\\nCoherence Score: ', coherence_lda)"
      ],
      "execution_count": 21,
      "outputs": [
        {
          "output_type": "stream",
          "name": "stdout",
          "text": [
            "\n",
            "Perplexity:  -6.835746133224248\n",
            "\n",
            "Coherence Score:  0.5415260122688559\n"
          ]
        }
      ]
    },
    {
      "cell_type": "code",
      "metadata": {
        "id": "pxIp7wejBRFy",
        "colab": {
          "base_uri": "https://localhost:8080/"
        },
        "outputId": "311a26e0-b936-4a53-c1fb-0318b4a2c9f3"
      },
      "source": [
        "# Can take a long time to run.\n",
        "limit=30\n",
        "step=1\n",
        "%time model_list, coherence_values = compute_coherence_values(dictionary=id2word, corpus=corpus, texts=data_lemmatized, start=2, limit=limit, step=step)"
      ],
      "execution_count": 22,
      "outputs": [
        {
          "output_type": "stream",
          "name": "stdout",
          "text": [
            "CPU times: user 29min 45s, sys: 6.39 s, total: 29min 52s\n",
            "Wall time: 30min 3s\n"
          ]
        }
      ]
    },
    {
      "cell_type": "code",
      "metadata": {
        "id": "rasuv3YoFF3n",
        "colab": {
          "base_uri": "https://localhost:8080/",
          "height": 542
        },
        "outputId": "f9cb4b34-014a-4381-cd9d-36888a1b8623"
      },
      "source": [
        "x = list(range(2, limit, step))\n",
        "fig = go.Figure()\n",
        "fig.add_trace(go.Scatter(x=x, y=coherence_values))\n",
        "fig.update_layout(title='Choose Optimal Model with Coherence Scores',\n",
        "                   xaxis_title='Num Topics',\n",
        "                   yaxis_title='Coherence Score')\n",
        "fig.show()"
      ],
      "execution_count": 23,
      "outputs": [
        {
          "output_type": "display_data",
          "data": {
            "text/html": [
              "<html>\n",
              "<head><meta charset=\"utf-8\" /></head>\n",
              "<body>\n",
              "    <div>            <script src=\"https://cdnjs.cloudflare.com/ajax/libs/mathjax/2.7.5/MathJax.js?config=TeX-AMS-MML_SVG\"></script><script type=\"text/javascript\">if (window.MathJax && window.MathJax.Hub && window.MathJax.Hub.Config) {window.MathJax.Hub.Config({SVG: {font: \"STIX-Web\"}});}</script>                <script type=\"text/javascript\">window.PlotlyConfig = {MathJaxConfig: 'local'};</script>\n",
              "        <script src=\"https://cdn.plot.ly/plotly-2.18.2.min.js\"></script>                <div id=\"eb6e1a64-7b74-4f25-a11a-f371abf0fd06\" class=\"plotly-graph-div\" style=\"height:525px; width:100%;\"></div>            <script type=\"text/javascript\">                                    window.PLOTLYENV=window.PLOTLYENV || {};                                    if (document.getElementById(\"eb6e1a64-7b74-4f25-a11a-f371abf0fd06\")) {                    Plotly.newPlot(                        \"eb6e1a64-7b74-4f25-a11a-f371abf0fd06\",                        [{\"x\":[2,3,4,5,6,7,8,9,10,11,12,13,14,15,16,17,18,19,20,21,22,23,24,25,26,27,28,29],\"y\":[0.5284590582258508,0.43280571422429165,0.5415260122688559,0.5305232977996568,0.5123165167048941,0.4867943551350575,0.47569505245008603,0.4482969694816881,0.4661046648342949,0.45516824929140004,0.4201410602248996,0.4184900004924784,0.4128946956736725,0.4428356756310148,0.40011803125512374,0.387105341412195,0.38749521998723535,0.3822616826974582,0.37497624574496696,0.3594325525306465,0.3728261664374507,0.3528340555440759,0.3574948268743999,0.3603397283612045,0.37957304209615916,0.36076362621347086,0.3840500323096237,0.41894307279955323],\"type\":\"scatter\"}],                        {\"template\":{\"data\":{\"histogram2dcontour\":[{\"type\":\"histogram2dcontour\",\"colorbar\":{\"outlinewidth\":0,\"ticks\":\"\"},\"colorscale\":[[0.0,\"#0d0887\"],[0.1111111111111111,\"#46039f\"],[0.2222222222222222,\"#7201a8\"],[0.3333333333333333,\"#9c179e\"],[0.4444444444444444,\"#bd3786\"],[0.5555555555555556,\"#d8576b\"],[0.6666666666666666,\"#ed7953\"],[0.7777777777777778,\"#fb9f3a\"],[0.8888888888888888,\"#fdca26\"],[1.0,\"#f0f921\"]]}],\"choropleth\":[{\"type\":\"choropleth\",\"colorbar\":{\"outlinewidth\":0,\"ticks\":\"\"}}],\"histogram2d\":[{\"type\":\"histogram2d\",\"colorbar\":{\"outlinewidth\":0,\"ticks\":\"\"},\"colorscale\":[[0.0,\"#0d0887\"],[0.1111111111111111,\"#46039f\"],[0.2222222222222222,\"#7201a8\"],[0.3333333333333333,\"#9c179e\"],[0.4444444444444444,\"#bd3786\"],[0.5555555555555556,\"#d8576b\"],[0.6666666666666666,\"#ed7953\"],[0.7777777777777778,\"#fb9f3a\"],[0.8888888888888888,\"#fdca26\"],[1.0,\"#f0f921\"]]}],\"heatmap\":[{\"type\":\"heatmap\",\"colorbar\":{\"outlinewidth\":0,\"ticks\":\"\"},\"colorscale\":[[0.0,\"#0d0887\"],[0.1111111111111111,\"#46039f\"],[0.2222222222222222,\"#7201a8\"],[0.3333333333333333,\"#9c179e\"],[0.4444444444444444,\"#bd3786\"],[0.5555555555555556,\"#d8576b\"],[0.6666666666666666,\"#ed7953\"],[0.7777777777777778,\"#fb9f3a\"],[0.8888888888888888,\"#fdca26\"],[1.0,\"#f0f921\"]]}],\"heatmapgl\":[{\"type\":\"heatmapgl\",\"colorbar\":{\"outlinewidth\":0,\"ticks\":\"\"},\"colorscale\":[[0.0,\"#0d0887\"],[0.1111111111111111,\"#46039f\"],[0.2222222222222222,\"#7201a8\"],[0.3333333333333333,\"#9c179e\"],[0.4444444444444444,\"#bd3786\"],[0.5555555555555556,\"#d8576b\"],[0.6666666666666666,\"#ed7953\"],[0.7777777777777778,\"#fb9f3a\"],[0.8888888888888888,\"#fdca26\"],[1.0,\"#f0f921\"]]}],\"contourcarpet\":[{\"type\":\"contourcarpet\",\"colorbar\":{\"outlinewidth\":0,\"ticks\":\"\"}}],\"contour\":[{\"type\":\"contour\",\"colorbar\":{\"outlinewidth\":0,\"ticks\":\"\"},\"colorscale\":[[0.0,\"#0d0887\"],[0.1111111111111111,\"#46039f\"],[0.2222222222222222,\"#7201a8\"],[0.3333333333333333,\"#9c179e\"],[0.4444444444444444,\"#bd3786\"],[0.5555555555555556,\"#d8576b\"],[0.6666666666666666,\"#ed7953\"],[0.7777777777777778,\"#fb9f3a\"],[0.8888888888888888,\"#fdca26\"],[1.0,\"#f0f921\"]]}],\"surface\":[{\"type\":\"surface\",\"colorbar\":{\"outlinewidth\":0,\"ticks\":\"\"},\"colorscale\":[[0.0,\"#0d0887\"],[0.1111111111111111,\"#46039f\"],[0.2222222222222222,\"#7201a8\"],[0.3333333333333333,\"#9c179e\"],[0.4444444444444444,\"#bd3786\"],[0.5555555555555556,\"#d8576b\"],[0.6666666666666666,\"#ed7953\"],[0.7777777777777778,\"#fb9f3a\"],[0.8888888888888888,\"#fdca26\"],[1.0,\"#f0f921\"]]}],\"mesh3d\":[{\"type\":\"mesh3d\",\"colorbar\":{\"outlinewidth\":0,\"ticks\":\"\"}}],\"scatter\":[{\"fillpattern\":{\"fillmode\":\"overlay\",\"size\":10,\"solidity\":0.2},\"type\":\"scatter\"}],\"parcoords\":[{\"type\":\"parcoords\",\"line\":{\"colorbar\":{\"outlinewidth\":0,\"ticks\":\"\"}}}],\"scatterpolargl\":[{\"type\":\"scatterpolargl\",\"marker\":{\"colorbar\":{\"outlinewidth\":0,\"ticks\":\"\"}}}],\"bar\":[{\"error_x\":{\"color\":\"#2a3f5f\"},\"error_y\":{\"color\":\"#2a3f5f\"},\"marker\":{\"line\":{\"color\":\"#E5ECF6\",\"width\":0.5},\"pattern\":{\"fillmode\":\"overlay\",\"size\":10,\"solidity\":0.2}},\"type\":\"bar\"}],\"scattergeo\":[{\"type\":\"scattergeo\",\"marker\":{\"colorbar\":{\"outlinewidth\":0,\"ticks\":\"\"}}}],\"scatterpolar\":[{\"type\":\"scatterpolar\",\"marker\":{\"colorbar\":{\"outlinewidth\":0,\"ticks\":\"\"}}}],\"histogram\":[{\"marker\":{\"pattern\":{\"fillmode\":\"overlay\",\"size\":10,\"solidity\":0.2}},\"type\":\"histogram\"}],\"scattergl\":[{\"type\":\"scattergl\",\"marker\":{\"colorbar\":{\"outlinewidth\":0,\"ticks\":\"\"}}}],\"scatter3d\":[{\"type\":\"scatter3d\",\"line\":{\"colorbar\":{\"outlinewidth\":0,\"ticks\":\"\"}},\"marker\":{\"colorbar\":{\"outlinewidth\":0,\"ticks\":\"\"}}}],\"scattermapbox\":[{\"type\":\"scattermapbox\",\"marker\":{\"colorbar\":{\"outlinewidth\":0,\"ticks\":\"\"}}}],\"scatterternary\":[{\"type\":\"scatterternary\",\"marker\":{\"colorbar\":{\"outlinewidth\":0,\"ticks\":\"\"}}}],\"scattercarpet\":[{\"type\":\"scattercarpet\",\"marker\":{\"colorbar\":{\"outlinewidth\":0,\"ticks\":\"\"}}}],\"carpet\":[{\"aaxis\":{\"endlinecolor\":\"#2a3f5f\",\"gridcolor\":\"white\",\"linecolor\":\"white\",\"minorgridcolor\":\"white\",\"startlinecolor\":\"#2a3f5f\"},\"baxis\":{\"endlinecolor\":\"#2a3f5f\",\"gridcolor\":\"white\",\"linecolor\":\"white\",\"minorgridcolor\":\"white\",\"startlinecolor\":\"#2a3f5f\"},\"type\":\"carpet\"}],\"table\":[{\"cells\":{\"fill\":{\"color\":\"#EBF0F8\"},\"line\":{\"color\":\"white\"}},\"header\":{\"fill\":{\"color\":\"#C8D4E3\"},\"line\":{\"color\":\"white\"}},\"type\":\"table\"}],\"barpolar\":[{\"marker\":{\"line\":{\"color\":\"#E5ECF6\",\"width\":0.5},\"pattern\":{\"fillmode\":\"overlay\",\"size\":10,\"solidity\":0.2}},\"type\":\"barpolar\"}],\"pie\":[{\"automargin\":true,\"type\":\"pie\"}]},\"layout\":{\"autotypenumbers\":\"strict\",\"colorway\":[\"#636efa\",\"#EF553B\",\"#00cc96\",\"#ab63fa\",\"#FFA15A\",\"#19d3f3\",\"#FF6692\",\"#B6E880\",\"#FF97FF\",\"#FECB52\"],\"font\":{\"color\":\"#2a3f5f\"},\"hovermode\":\"closest\",\"hoverlabel\":{\"align\":\"left\"},\"paper_bgcolor\":\"white\",\"plot_bgcolor\":\"#E5ECF6\",\"polar\":{\"bgcolor\":\"#E5ECF6\",\"angularaxis\":{\"gridcolor\":\"white\",\"linecolor\":\"white\",\"ticks\":\"\"},\"radialaxis\":{\"gridcolor\":\"white\",\"linecolor\":\"white\",\"ticks\":\"\"}},\"ternary\":{\"bgcolor\":\"#E5ECF6\",\"aaxis\":{\"gridcolor\":\"white\",\"linecolor\":\"white\",\"ticks\":\"\"},\"baxis\":{\"gridcolor\":\"white\",\"linecolor\":\"white\",\"ticks\":\"\"},\"caxis\":{\"gridcolor\":\"white\",\"linecolor\":\"white\",\"ticks\":\"\"}},\"coloraxis\":{\"colorbar\":{\"outlinewidth\":0,\"ticks\":\"\"}},\"colorscale\":{\"sequential\":[[0.0,\"#0d0887\"],[0.1111111111111111,\"#46039f\"],[0.2222222222222222,\"#7201a8\"],[0.3333333333333333,\"#9c179e\"],[0.4444444444444444,\"#bd3786\"],[0.5555555555555556,\"#d8576b\"],[0.6666666666666666,\"#ed7953\"],[0.7777777777777778,\"#fb9f3a\"],[0.8888888888888888,\"#fdca26\"],[1.0,\"#f0f921\"]],\"sequentialminus\":[[0.0,\"#0d0887\"],[0.1111111111111111,\"#46039f\"],[0.2222222222222222,\"#7201a8\"],[0.3333333333333333,\"#9c179e\"],[0.4444444444444444,\"#bd3786\"],[0.5555555555555556,\"#d8576b\"],[0.6666666666666666,\"#ed7953\"],[0.7777777777777778,\"#fb9f3a\"],[0.8888888888888888,\"#fdca26\"],[1.0,\"#f0f921\"]],\"diverging\":[[0,\"#8e0152\"],[0.1,\"#c51b7d\"],[0.2,\"#de77ae\"],[0.3,\"#f1b6da\"],[0.4,\"#fde0ef\"],[0.5,\"#f7f7f7\"],[0.6,\"#e6f5d0\"],[0.7,\"#b8e186\"],[0.8,\"#7fbc41\"],[0.9,\"#4d9221\"],[1,\"#276419\"]]},\"xaxis\":{\"gridcolor\":\"white\",\"linecolor\":\"white\",\"ticks\":\"\",\"title\":{\"standoff\":15},\"zerolinecolor\":\"white\",\"automargin\":true,\"zerolinewidth\":2},\"yaxis\":{\"gridcolor\":\"white\",\"linecolor\":\"white\",\"ticks\":\"\",\"title\":{\"standoff\":15},\"zerolinecolor\":\"white\",\"automargin\":true,\"zerolinewidth\":2},\"scene\":{\"xaxis\":{\"backgroundcolor\":\"#E5ECF6\",\"gridcolor\":\"white\",\"linecolor\":\"white\",\"showbackground\":true,\"ticks\":\"\",\"zerolinecolor\":\"white\",\"gridwidth\":2},\"yaxis\":{\"backgroundcolor\":\"#E5ECF6\",\"gridcolor\":\"white\",\"linecolor\":\"white\",\"showbackground\":true,\"ticks\":\"\",\"zerolinecolor\":\"white\",\"gridwidth\":2},\"zaxis\":{\"backgroundcolor\":\"#E5ECF6\",\"gridcolor\":\"white\",\"linecolor\":\"white\",\"showbackground\":true,\"ticks\":\"\",\"zerolinecolor\":\"white\",\"gridwidth\":2}},\"shapedefaults\":{\"line\":{\"color\":\"#2a3f5f\"}},\"annotationdefaults\":{\"arrowcolor\":\"#2a3f5f\",\"arrowhead\":0,\"arrowwidth\":1},\"geo\":{\"bgcolor\":\"white\",\"landcolor\":\"#E5ECF6\",\"subunitcolor\":\"white\",\"showland\":true,\"showlakes\":true,\"lakecolor\":\"white\"},\"title\":{\"x\":0.05},\"mapbox\":{\"style\":\"light\"}}},\"title\":{\"text\":\"Choose Optimal Model with Coherence Scores\"},\"xaxis\":{\"title\":{\"text\":\"Num Topics\"}},\"yaxis\":{\"title\":{\"text\":\"Coherence Score\"}}},                        {\"responsive\": true}                    ).then(function(){\n",
              "                            \n",
              "var gd = document.getElementById('eb6e1a64-7b74-4f25-a11a-f371abf0fd06');\n",
              "var x = new MutationObserver(function (mutations, observer) {{\n",
              "        var display = window.getComputedStyle(gd).display;\n",
              "        if (!display || display === 'none') {{\n",
              "            console.log([gd, 'removed!']);\n",
              "            Plotly.purge(gd);\n",
              "            observer.disconnect();\n",
              "        }}\n",
              "}});\n",
              "\n",
              "// Listen for the removal of the full notebook cells\n",
              "var notebookContainer = gd.closest('#notebook-container');\n",
              "if (notebookContainer) {{\n",
              "    x.observe(notebookContainer, {childList: true});\n",
              "}}\n",
              "\n",
              "// Listen for the clearing of the current output cell\n",
              "var outputEl = gd.closest('.output');\n",
              "if (outputEl) {{\n",
              "    x.observe(outputEl, {childList: true});\n",
              "}}\n",
              "\n",
              "                        })                };                            </script>        </div>\n",
              "</body>\n",
              "</html>"
            ]
          },
          "metadata": {}
        }
      ]
    },
    {
      "cell_type": "code",
      "metadata": {
        "id": "ngnsWh5dCs8i",
        "colab": {
          "base_uri": "https://localhost:8080/"
        },
        "outputId": "67ab8a09-0170-45ef-ed27-7ac194af2c31"
      },
      "source": [
        "# Print the coherence scores\n",
        "for m, cv in zip(x, coherence_values):\n",
        "    print(\"Num Topics =\", m, \" has Coherence Value of\", round(cv, 4))"
      ],
      "execution_count": 24,
      "outputs": [
        {
          "output_type": "stream",
          "name": "stdout",
          "text": [
            "Num Topics = 2  has Coherence Value of 0.5285\n",
            "Num Topics = 3  has Coherence Value of 0.4328\n",
            "Num Topics = 4  has Coherence Value of 0.5415\n",
            "Num Topics = 5  has Coherence Value of 0.5305\n",
            "Num Topics = 6  has Coherence Value of 0.5123\n",
            "Num Topics = 7  has Coherence Value of 0.4868\n",
            "Num Topics = 8  has Coherence Value of 0.4757\n",
            "Num Topics = 9  has Coherence Value of 0.4483\n",
            "Num Topics = 10  has Coherence Value of 0.4661\n",
            "Num Topics = 11  has Coherence Value of 0.4552\n",
            "Num Topics = 12  has Coherence Value of 0.4201\n",
            "Num Topics = 13  has Coherence Value of 0.4185\n",
            "Num Topics = 14  has Coherence Value of 0.4129\n",
            "Num Topics = 15  has Coherence Value of 0.4428\n",
            "Num Topics = 16  has Coherence Value of 0.4001\n",
            "Num Topics = 17  has Coherence Value of 0.3871\n",
            "Num Topics = 18  has Coherence Value of 0.3875\n",
            "Num Topics = 19  has Coherence Value of 0.3823\n",
            "Num Topics = 20  has Coherence Value of 0.375\n",
            "Num Topics = 21  has Coherence Value of 0.3594\n",
            "Num Topics = 22  has Coherence Value of 0.3728\n",
            "Num Topics = 23  has Coherence Value of 0.3528\n",
            "Num Topics = 24  has Coherence Value of 0.3575\n",
            "Num Topics = 25  has Coherence Value of 0.3603\n",
            "Num Topics = 26  has Coherence Value of 0.3796\n",
            "Num Topics = 27  has Coherence Value of 0.3608\n",
            "Num Topics = 28  has Coherence Value of 0.3841\n",
            "Num Topics = 29  has Coherence Value of 0.4189\n"
          ]
        }
      ]
    },
    {
      "cell_type": "code",
      "metadata": {
        "id": "TjBj9nyOCveG",
        "colab": {
          "base_uri": "https://localhost:8080/"
        },
        "outputId": "c0f3a799-d953-4e4d-c047-ce58a3f70500"
      },
      "source": [
        "# Select the model and print the topics\n",
        "optimal_model = model_list[2] # 4 topics\n",
        "# Save model to disk.\n",
        "temp_file = datapath(base_dir + 'output/models/lda_v1')\n",
        "optimal_model.save(temp_file)\n",
        "optimal_model = LdaModel.load(temp_file)\n",
        "# show topics\n",
        "model_topics = optimal_model.show_topics(formatted=False)\n",
        "pprint(optimal_model.print_topics(num_words=10))"
      ],
      "execution_count": 25,
      "outputs": [
        {
          "output_type": "stream",
          "name": "stdout",
          "text": [
            "[(0,\n",
            "  '0.039*\"buyer\" + 0.028*\"seller\" + 0.027*\"offer\" + 0.023*\"pm\" + '\n",
            "  '0.019*\"verify\" + 0.017*\"due\" + 0.017*\"obtain\" + 0.016*\"property\" + '\n",
            "  '0.016*\"multiple_offer\" + 0.012*\"agent\"'),\n",
            " (1,\n",
            "  '0.036*\"room\" + 0.034*\"bedroom\" + 0.029*\"home\" + 0.024*\"large\" + '\n",
            "  '0.018*\"kitchen\" + 0.018*\"bath\" + 0.016*\"space\" + 0.014*\"living\" + '\n",
            "  '0.012*\"area\" + 0.012*\"yard\"'),\n",
            " (2,\n",
            "  '0.058*\"home\" + 0.032*\"great\" + 0.016*\"lot\" + 0.015*\"property\" + '\n",
            "  '0.014*\"close\" + 0.014*\"location\" + 0.012*\"make\" + 0.011*\"potential\" + '\n",
            "  '0.010*\"downtown\" + 0.010*\"bath\"'),\n",
            " (3,\n",
            "  '0.123*\"new\" + 0.038*\"update\" + 0.029*\"floor\" + 0.023*\"roof\" + '\n",
            "  '0.021*\"window\" + 0.020*\"kitchen\" + 0.019*\"appliance\" + 0.017*\"paint\" + '\n",
            "  '0.016*\"home\" + 0.015*\"bathroom\"')]\n"
          ]
        }
      ]
    },
    {
      "cell_type": "code",
      "metadata": {
        "id": "YdmM4Gvi_6Yi",
        "colab": {
          "base_uri": "https://localhost:8080/",
          "height": 861
        },
        "outputId": "bf85ae7b-436c-410d-db1b-d5d19c2e910d"
      },
      "source": [
        "# Visualize the topics\n",
        "pyLDAvis.enable_notebook()\n",
        "vis = pyLDAvis.gensim.prepare(optimal_model, corpus, id2word)\n",
        "# vis = pyLDAvis.gensim.prepare(lda_model, corpus, id2word)\n",
        "# save to html file\n",
        "pyLDAvis.save_html(vis, base_dir + 'output/lda_vis_topics.html')\n",
        "vis"
      ],
      "execution_count": 26,
      "outputs": [
        {
          "output_type": "execute_result",
          "data": {
            "text/plain": [
              "PreparedData(topic_coordinates=              x         y  topics  cluster       Freq\n",
              "topic                                                \n",
              "1      0.183391 -0.135266       1        1  50.379621\n",
              "2     -0.014294 -0.220110       2        1  24.440973\n",
              "3      0.198401  0.269059       3        1  19.799201\n",
              "0     -0.367498  0.086317       4        1   5.380205, topic_info=          Term          Freq         Total Category  logprob  loglift\n",
              "60         new  13194.000000  13194.000000  Default  30.0000  30.0000\n",
              "30        room   9793.000000   9793.000000  Default  29.0000  29.0000\n",
              "91      update   4954.000000   4954.000000  Default  28.0000  28.0000\n",
              "2        great   5490.000000   5490.000000  Default  27.0000  27.0000\n",
              "82       offer   3471.000000   3471.000000  Default  26.0000  26.0000\n",
              "..         ...           ...           ...      ...      ...      ...\n",
              "10    property    466.794238   2457.145496   Topic4  -4.1364   1.2616\n",
              "191    provide    184.487735    775.384867   Topic4  -5.0647   1.4867\n",
              "323       sale    156.329622    353.451806   Topic4  -5.2303   2.1067\n",
              "11     sold_as    152.685344    677.797091   Topic4  -5.2539   1.4320\n",
              "168  condition    150.945246    573.924126   Topic4  -5.2654   1.5869\n",
              "\n",
              "[240 rows x 6 columns], token_table=      Topic      Freq       Term\n",
              "term                            \n",
              "700       4  0.991413     accept\n",
              "2509      4  0.996435     advise\n",
              "161       4  0.998395      agent\n",
              "982       2  0.995994    already\n",
              "452       1  0.276932  appliance\n",
              "...     ...       ...        ...\n",
              "86        1  0.837586       yard\n",
              "86        2  0.078136       yard\n",
              "86        3  0.084207       yard\n",
              "702       2  0.995984  years_old\n",
              "492       4  0.995666       zone\n",
              "\n",
              "[306 rows x 3 columns], R=30, lambda_step=0.01, plot_opts={'xlab': 'PC1', 'ylab': 'PC2'}, topic_order=[2, 3, 4, 1])"
            ],
            "text/html": [
              "\n",
              "<link rel=\"stylesheet\" type=\"text/css\" href=\"https://cdn.rawgit.com/bmabey/pyLDAvis/files/ldavis.v1.0.0.css\">\n",
              "\n",
              "\n",
              "<div id=\"ldavis_el4261404651238826249945645365\"></div>\n",
              "<script type=\"text/javascript\">\n",
              "\n",
              "var ldavis_el4261404651238826249945645365_data = {\"mdsDat\": {\"x\": [0.18339065783987493, -0.014293818441845144, 0.1984014306132085, -0.3674982700112385], \"y\": [-0.13526616553079032, -0.22011024576370958, 0.26905925445012685, 0.08631715684437302], \"topics\": [1, 2, 3, 4], \"cluster\": [1, 1, 1, 1], \"Freq\": [50.379621182697434, 24.44097252392126, 19.799200999209706, 5.380205294171612]}, \"tinfo\": {\"Term\": [\"new\", \"room\", \"update\", \"great\", \"offer\", \"floor\", \"home\", \"large\", \"buyer\", \"roof\", \"property\", \"window\", \"kitchen\", \"bedroom\", \"seller\", \"appliance\", \"space\", \"paint\", \"living\", \"bathroom\", \"location\", \"close\", \"lot\", \"pm\", \"furnace\", \"potential\", \"main\", \"storage\", \"cabinet\", \"spacious\", \"room\", \"large\", \"space\", \"living\", \"main\", \"storage\", \"spacious\", \"open\", \"dining\", \"walk\", \"fireplace\", \"plenty\", \"enjoy\", \"closet\", \"level\", \"laundry\", \"master\", \"upstairs\", \"private\", \"office\", \"patio\", \"lower_level\", \"oversized\", \"cozy\", \"cover\", \"bright\", \"eat\", \"floor_plan\", \"entertain\", \"natural_light\", \"backyard\", \"bedroom\", \"feature\", \"car_garage\", \"area\", \"extra\", \"full\", \"yard\", \"bath\", \"kitchen\", \"home\", \"back\", \"beautiful\", \"family\", \"floor\", \"live\", \"fence\", \"bathroom\", \"offer\", \"include\", \"potential\", \"opportunity\", \"bungalow\", \"investor\", \"call\", \"investment\", \"bring\", \"starter\", \"sq_ft\", \"rental\", \"tlc\", \"value\", \"little\", \"market\", \"first_time\", \"currently\", \"east_side\", \"month\", \"quiet_street\", \"bus_line\", \"investment_opportunity\", \"solid\", \"mile\", \"end\", \"years_old\", \"local\", \"start\", \"put\", \"option\", \"already\", \"light_rail\", \"toy\", \"need\", \"city\", \"street\", \"rent\", \"price\", \"good\", \"downtown\", \"only\", \"great\", \"location\", \"property\", \"work\", \"minute\", \"close\", \"make\", \"house\", \"home\", \"lot\", \"school\", \"locate\", \"neighborhood\", \"shopping\", \"park\", \"bath\", \"look\", \"offer\", \"bedroom\", \"owner\", \"ready\", \"new\", \"paint\", \"furnace\", \"remodel\", \"vinyl\", \"brand\", \"replace\", \"instal\", \"recently\", \"interior\", \"exterior\", \"fresh_paint\", \"electrical\", \"fixture\", \"water_heater\", \"plumbing\", \"freshly_painte\", \"hot_water\", \"hvac\", \"refrigerator\", \"vinyl_side\", \"water_heat\", \"fresh\", \"heater\", \"dishwasher\", \"system\", \"wall\", \"flooring\", \"sprinkler_system\", \"convey\", \"roof\", \"vanity\", \"update\", \"window\", \"appliance\", \"carpet\", \"cabinet\", \"stainless_steel\", \"floor\", \"upgrade\", \"top\", \"tile\", \"door\", \"bathroom\", \"kitchen\", \"include\", \"move\", \"ready\", \"home\", \"garage\", \"fence\", \"pm\", \"verify\", \"due\", \"multiple_offer\", \"agent\", \"information\", \"receive\", \"obtain\", \"noon\", \"building\", \"review\", \"measurement\", \"zone\", \"advise\", \"highest_b\", \"please_submit\", \"submit\", \"accept\", \"closing\", \"inspection\", \"bid\", \"fha\", \"sewer\", \"prefer\", \"approve\", \"march_th\", \"site\", \"residential\", \"short_sale\", \"approximate\", \"report\", \"material\", \"county_record\", \"buyer\", \"seller\", \"as_courtesy\", \"figure\", \"estimate_only\", \"independent_measurement\", \"square_footage\", \"showing\", \"offer\", \"available\", \"property\", \"provide\", \"sale\", \"sold_as\", \"condition\"], \"Freq\": [13194.0, 9793.0, 4954.0, 5490.0, 3471.0, 6273.0, 17406.0, 6441.0, 1690.0, 2560.0, 2457.0, 2849.0, 7207.0, 10448.0, 1490.0, 2769.0, 4290.0, 1780.0, 3767.0, 3696.0, 2268.0, 2554.0, 3448.0, 683.0, 1223.0, 1406.0, 2907.0, 2849.0, 1598.0, 2586.0, 9792.316582256584, 6440.665009430984, 4289.216519607061, 3766.4178308541896, 2906.901100780164, 2848.780288877036, 2585.6471963433382, 2289.6582261170947, 2008.7152400275818, 1915.7742642078927, 1776.298096976751, 1751.2177205886685, 1590.9626861354043, 1551.8974375631442, 1385.3739329688544, 1320.2450185746259, 1254.0693849358793, 1218.2933159414276, 1281.1595183158388, 1226.4259601957124, 1145.0350688894534, 1016.1226398795118, 914.9808136537445, 893.4006674382828, 880.387430415556, 853.6997196996332, 827.6706345876776, 820.8936433242699, 817.05626715016, 775.3672151662342, 2767.998476595757, 9429.769106884047, 3017.51835997223, 1604.8201892219286, 3313.6512572788224, 1063.000008371811, 2622.095137327913, 3173.1048075200965, 4815.76750197681, 5021.139982415544, 8020.985370611937, 2165.466987449882, 1988.4364238828477, 1833.0654848482113, 3143.956389522054, 1458.1048719565426, 1786.5914306036323, 2021.6085590448677, 1807.389275821305, 1613.9649083261693, 1405.4632020582283, 1245.5176617148186, 744.4300080496806, 592.8225919684588, 598.8842612436654, 532.8901147933549, 546.6913973510284, 506.06034314981054, 549.3251299019935, 421.8871517387928, 421.46984388193283, 412.68224936716484, 405.941524092408, 383.2600835832927, 351.3799816285201, 301.5795550797647, 384.05981808205786, 275.04214919097467, 309.917524863587, 313.2088718169557, 249.92602150498328, 263.27108310549954, 244.9125651796262, 254.34051886335908, 247.21196020390073, 217.50365414340843, 211.4600897326514, 215.318032435406, 215.7949689413916, 210.06193694118463, 268.662594335015, 222.3311494122437, 1215.7831715713553, 724.2299844230386, 611.8807733078548, 361.71674698497566, 820.1168686545437, 669.7449087501279, 1339.0234164188048, 816.2704191421906, 4260.300761304255, 1886.7427746059511, 1989.8962593644242, 850.088761150277, 1009.9361150445047, 1922.9710409089064, 1538.1803856791457, 1152.5005529769314, 7717.218615595734, 2059.8734759936337, 787.1183124370785, 1086.0225802855289, 970.7482904218389, 825.2305350956723, 1076.053164482495, 1314.3983291135792, 673.3401764399986, 862.8638130295275, 1000.9583267659972, 663.8068221674097, 718.2034126324987, 13193.363588226188, 1780.0887228499548, 1222.869842536749, 1083.4919905250674, 985.8820331847237, 894.3078380120478, 788.6908099479976, 780.9471843751325, 701.0810062823473, 681.2776195530266, 635.1770207355052, 580.1140309009456, 488.05158872061156, 452.8651676048332, 428.6273127179928, 425.70553930841595, 409.25248112052225, 374.4963670994059, 358.01475191767696, 334.9023078851714, 356.2492239079256, 328.2238506739491, 308.82211393329453, 306.8156159527756, 301.1403076196521, 304.37172794222613, 307.3251117665392, 275.30849193843346, 314.7092345703863, 270.4597346319613, 2475.1009800076886, 386.5198626256536, 4051.788622405819, 2302.16182758462, 2002.3603449178418, 1132.0822286105713, 1235.2212804733588, 944.3407924451757, 3128.9853595373406, 517.990130373309, 514.1762574998725, 940.8398701860391, 878.4042203900308, 1658.8388805585391, 2185.617056621054, 1211.5536644537774, 820.2159791793031, 952.9175013631768, 1668.38087092986, 752.1913177326813, 617.3089522404567, 682.5219006266831, 557.2787198249205, 502.7378488866292, 454.88967813925126, 350.8353778655781, 302.07316886981596, 271.6556278104419, 482.1204496967881, 215.70555903038658, 232.9073050967713, 186.77345594465834, 185.49870189656423, 201.05802740909834, 286.8552032769439, 146.6245863658298, 141.37666727894668, 132.10813880358617, 125.36002339460201, 126.91665509710943, 123.96724336535921, 107.73070689011331, 106.54892363620515, 122.75203959333624, 109.62008834217018, 99.37406072006776, 102.02185125566932, 107.97307025672706, 102.68524241927462, 91.04094629456378, 91.3592913519343, 113.54738008126758, 113.3596906147607, 144.41521399450093, 1147.2936056656063, 820.1786887715278, 164.81478812244094, 159.0971726940751, 159.3059659187648, 161.63272496951205, 269.71925088012426, 309.77767966735917, 801.4156454602208, 248.0384888802935, 466.7942380790248, 184.48773462413186, 156.3296219013543, 152.6853435974039, 150.945245900459], \"Total\": [13194.0, 9793.0, 4954.0, 5490.0, 3471.0, 6273.0, 17406.0, 6441.0, 1690.0, 2560.0, 2457.0, 2849.0, 7207.0, 10448.0, 1490.0, 2769.0, 4290.0, 1780.0, 3767.0, 3696.0, 2268.0, 2554.0, 3448.0, 683.0, 1223.0, 1406.0, 2907.0, 2849.0, 1598.0, 2586.0, 9793.137359061797, 6441.598604401629, 4290.037130097677, 3767.230847742226, 2907.7454094636087, 2849.6093811912206, 2586.462948365687, 2290.4758744792616, 2009.5297353020774, 1916.5916529345175, 1777.1107797369034, 1752.0459198630533, 1591.7799003138578, 1552.706391454653, 1386.2078794684676, 1321.0685267446577, 1254.874450252222, 1219.10762688099, 1282.020791587083, 1227.266887597753, 1145.8484675876307, 1016.9516897945272, 915.8188182988885, 894.223891046644, 881.2031502990077, 854.5269104137124, 828.4794028653487, 821.7007545208634, 817.8702415015094, 776.1905001292708, 2909.36866028669, 10448.975370353883, 3261.9058256465923, 1697.6578339489633, 3785.137815190417, 1088.7570760844756, 3016.414604924735, 3788.267902238604, 6471.724820824382, 7207.340230854993, 17406.884454267845, 2810.705018092536, 2482.2803082135774, 2276.8129759163876, 6273.532331005644, 1611.5775322120076, 2619.4125191242188, 3696.688902317845, 3471.906127813987, 2929.6157517658507, 1406.2308695510822, 1246.2714199396605, 745.3400952682966, 593.5631235739816, 599.6542740253809, 533.6338796411596, 547.46289820362, 506.8179730949821, 550.1524051441389, 422.63564319957584, 422.2305355650675, 413.4747994331876, 406.73107938554375, 384.02047188075915, 352.1317492853723, 302.342948404334, 385.06183932225963, 275.7950638710495, 310.7659553048162, 314.10690377372964, 250.6644934891761, 264.05315185465946, 245.6640529366046, 255.13261150617762, 247.9960479957321, 218.27073260347376, 212.23061056477258, 216.1082954301668, 216.58867220882135, 210.84462267109777, 269.7512624143104, 223.23013986092707, 1278.3963359452912, 751.6648365559043, 637.6628491438439, 371.6965798703937, 882.3928179573746, 713.0889110622868, 1524.9055426555624, 904.8817319092046, 5490.718259857867, 2268.507898949895, 2457.145495939941, 976.3359152963311, 1195.8971198699624, 2554.223048872409, 2078.5024856788687, 1538.5054216377814, 17406.884454267845, 3448.9924908503162, 1166.0153056144543, 2080.1153711021425, 1783.9824892540091, 1421.521868337956, 2447.137645254727, 6471.724820824382, 1018.4368338003557, 3471.906127813987, 10448.975370353883, 1203.2869962879731, 2540.907423005963, 13194.178150516384, 1780.9017305608077, 1223.7105171822789, 1084.3309443429027, 986.7212730755573, 895.1130073392123, 789.5126568332798, 781.7622687144762, 701.9110786669211, 682.1079690678307, 635.9845782438065, 580.9168967886686, 488.88269370056463, 453.6596559660839, 429.43669048190503, 426.522960363032, 410.06132489638367, 375.3151004242905, 358.8126604415719, 335.70794171916555, 357.11164935164163, 329.0354728577371, 309.63407795050415, 307.6288522057535, 301.9432044295927, 305.1896066855289, 308.16922505874237, 276.1175606843133, 315.6518273466505, 271.33737823485126, 2560.689303866859, 390.4273820618462, 4954.582007705447, 2849.4183306086557, 2769.6360422887856, 1438.130060386533, 1598.972065575705, 1175.9933453904814, 6273.532331005644, 600.7852453068797, 599.7055139545278, 1427.4723378656718, 1347.6505210609973, 3696.688902317845, 7207.340230854993, 2929.6157517658507, 1784.9720957560733, 2540.907423005963, 17406.884454267845, 2639.433049185872, 2619.4125191242188, 683.2632806362943, 558.009159885877, 503.4931954175498, 455.61738648692494, 351.5642732561783, 302.7980772446775, 272.38810925876635, 483.63107683829674, 216.47810735144606, 233.7518084351014, 187.50623239619932, 186.2273541948772, 201.87482560337082, 288.02695127066943, 147.3478828055843, 142.1019046632957, 132.8387016723111, 126.082690864365, 127.65365101749963, 124.70899034968605, 108.45165795589486, 107.27248302651249, 123.62501877994045, 110.4010323445819, 100.1078999290784, 102.79052702210046, 108.81579121703446, 103.50590527521793, 91.7706191304186, 92.10429161038005, 114.51179380863799, 114.79372406280397, 150.45919630226928, 1690.7760466828204, 1490.6576857333357, 200.23358090497925, 191.19857589441673, 191.91142462090022, 196.56783834113276, 424.4222094198334, 549.6629875779564, 3471.906127813987, 562.8929187753462, 2457.145495939941, 775.384866537577, 353.4518056134817, 677.7970912648005, 573.9241258415017], \"Category\": [\"Default\", \"Default\", \"Default\", \"Default\", \"Default\", \"Default\", \"Default\", \"Default\", \"Default\", \"Default\", \"Default\", \"Default\", \"Default\", \"Default\", \"Default\", \"Default\", \"Default\", \"Default\", \"Default\", \"Default\", \"Default\", \"Default\", \"Default\", \"Default\", \"Default\", \"Default\", \"Default\", \"Default\", \"Default\", \"Default\", \"Topic1\", \"Topic1\", \"Topic1\", \"Topic1\", \"Topic1\", \"Topic1\", \"Topic1\", \"Topic1\", \"Topic1\", \"Topic1\", \"Topic1\", \"Topic1\", \"Topic1\", \"Topic1\", \"Topic1\", \"Topic1\", \"Topic1\", \"Topic1\", \"Topic1\", \"Topic1\", \"Topic1\", \"Topic1\", \"Topic1\", \"Topic1\", \"Topic1\", \"Topic1\", \"Topic1\", \"Topic1\", \"Topic1\", \"Topic1\", \"Topic1\", \"Topic1\", \"Topic1\", \"Topic1\", \"Topic1\", \"Topic1\", \"Topic1\", \"Topic1\", \"Topic1\", \"Topic1\", \"Topic1\", \"Topic1\", \"Topic1\", \"Topic1\", \"Topic1\", \"Topic1\", \"Topic1\", \"Topic1\", \"Topic1\", \"Topic1\", \"Topic2\", \"Topic2\", \"Topic2\", \"Topic2\", \"Topic2\", \"Topic2\", \"Topic2\", \"Topic2\", \"Topic2\", \"Topic2\", \"Topic2\", \"Topic2\", \"Topic2\", \"Topic2\", \"Topic2\", \"Topic2\", \"Topic2\", \"Topic2\", \"Topic2\", \"Topic2\", \"Topic2\", \"Topic2\", \"Topic2\", \"Topic2\", \"Topic2\", \"Topic2\", \"Topic2\", \"Topic2\", \"Topic2\", \"Topic2\", \"Topic2\", \"Topic2\", \"Topic2\", \"Topic2\", \"Topic2\", \"Topic2\", \"Topic2\", \"Topic2\", \"Topic2\", \"Topic2\", \"Topic2\", \"Topic2\", \"Topic2\", \"Topic2\", \"Topic2\", \"Topic2\", \"Topic2\", \"Topic2\", \"Topic2\", \"Topic2\", \"Topic2\", \"Topic2\", \"Topic2\", \"Topic2\", \"Topic2\", \"Topic2\", \"Topic2\", \"Topic2\", \"Topic2\", \"Topic2\", \"Topic2\", \"Topic3\", \"Topic3\", \"Topic3\", \"Topic3\", \"Topic3\", \"Topic3\", \"Topic3\", \"Topic3\", \"Topic3\", \"Topic3\", \"Topic3\", \"Topic3\", \"Topic3\", \"Topic3\", \"Topic3\", \"Topic3\", \"Topic3\", \"Topic3\", \"Topic3\", \"Topic3\", \"Topic3\", \"Topic3\", \"Topic3\", \"Topic3\", \"Topic3\", \"Topic3\", \"Topic3\", \"Topic3\", \"Topic3\", \"Topic3\", \"Topic3\", \"Topic3\", \"Topic3\", \"Topic3\", \"Topic3\", \"Topic3\", \"Topic3\", \"Topic3\", \"Topic3\", \"Topic3\", \"Topic3\", \"Topic3\", \"Topic3\", \"Topic3\", \"Topic3\", \"Topic3\", \"Topic3\", \"Topic3\", \"Topic3\", \"Topic3\", \"Topic3\", \"Topic4\", \"Topic4\", \"Topic4\", \"Topic4\", \"Topic4\", \"Topic4\", \"Topic4\", \"Topic4\", \"Topic4\", \"Topic4\", \"Topic4\", \"Topic4\", \"Topic4\", \"Topic4\", \"Topic4\", \"Topic4\", \"Topic4\", \"Topic4\", \"Topic4\", \"Topic4\", \"Topic4\", \"Topic4\", \"Topic4\", \"Topic4\", \"Topic4\", \"Topic4\", \"Topic4\", \"Topic4\", \"Topic4\", \"Topic4\", \"Topic4\", \"Topic4\", \"Topic4\", \"Topic4\", \"Topic4\", \"Topic4\", \"Topic4\", \"Topic4\", \"Topic4\", \"Topic4\", \"Topic4\", \"Topic4\", \"Topic4\", \"Topic4\", \"Topic4\", \"Topic4\", \"Topic4\", \"Topic4\"], \"logprob\": [30.0, 29.0, 28.0, 27.0, 26.0, 25.0, 24.0, 23.0, 22.0, 21.0, 20.0, 19.0, 18.0, 17.0, 16.0, 15.0, 14.0, 13.0, 12.0, 11.0, 10.0, 9.0, 8.0, 7.0, 6.0, 5.0, 4.0, 3.0, 2.0, 1.0, -3.3297998905181885, -3.748800039291382, -4.155300140380859, -4.285299777984619, -4.544300079345703, -4.564499855041504, -4.661399841308594, -4.7829999923706055, -4.913899898529053, -4.961299896240234, -5.036900043487549, -5.05109977722168, -5.146999835968018, -5.171899795532227, -5.285399913787842, -5.333600044250488, -5.385000228881836, -5.413899898529053, -5.36359977722168, -5.407299995422363, -5.47599983215332, -5.595399856567383, -5.700200080871582, -5.724100112915039, -5.738800048828125, -5.769599914550781, -5.80049991607666, -5.808700084686279, -5.813399791717529, -5.865799903869629, -4.593299865722656, -3.367500066757202, -4.506999969482422, -5.138400077819824, -4.413300037384033, -5.550300121307373, -4.64739990234375, -4.456699848175049, -4.0395002365112305, -3.9976999759674072, -3.5292999744415283, -4.838799953460693, -4.923999786376953, -5.00540018081665, -4.46589994430542, -5.2342000007629395, -5.031099796295166, -4.90749979019165, -5.019499778747559, -5.132699966430664, -4.547699928283691, -4.668499946594238, -5.183199882507324, -5.410900115966797, -5.400700092315674, -5.517499923706055, -5.4918999671936035, -5.569200038909912, -5.487100124359131, -5.751100063323975, -5.752099990844727, -5.773099899291992, -5.789599895477295, -5.847099781036377, -5.933899879455566, -6.0868000984191895, -5.84499979019165, -6.178899765014648, -6.059500217437744, -6.048900127410889, -6.274700164794922, -6.222599983215332, -6.294899940490723, -6.2571001052856445, -6.285600185394287, -6.413599967956543, -6.441800117492676, -6.423699855804443, -6.421500205993652, -6.448400020599365, -6.202400207519531, -6.391600131988525, -4.692699909210205, -5.210700035095215, -5.379300117492676, -5.90500020980835, -5.086400032043457, -5.288899898529053, -4.596099853515625, -5.091100215911865, -3.438699960708618, -4.253200054168701, -4.199999809265137, -5.05049991607666, -4.878200054168701, -4.2342000007629395, -4.457499980926514, -4.746099948883057, -2.844599962234497, -4.16540002822876, -5.127399921417236, -4.805500030517578, -4.917699813842773, -5.0802001953125, -4.814799785614014, -4.614699840545654, -5.283599853515625, -5.035600185394287, -4.8871002197265625, -5.297800064086914, -5.219099998474121, -2.0977001190185547, -4.100800037384033, -4.476200103759766, -4.597300052642822, -4.691699981689453, -4.789100170135498, -4.91480016708374, -4.924699783325195, -5.032599925994873, -5.061200141906738, -5.13129997253418, -5.2220001220703125, -5.394800186157227, -5.469600200653076, -5.524600028991699, -5.531400203704834, -5.570899963378906, -5.659599781036377, -5.704599857330322, -5.771399974822998, -5.70959997177124, -5.791500091552734, -5.852399826049805, -5.85890007019043, -5.877600193023682, -5.8668999671936035, -5.8572998046875, -5.967299938201904, -5.833499908447266, -5.985099792480469, -3.771199941635132, -5.627999782562256, -3.2783000469207764, -3.843600034713745, -3.983099937438965, -4.553400039672852, -4.46619987487793, -4.7347002029418945, -3.5367000102996826, -5.33519983291626, -5.342599868774414, -4.738399982452393, -4.80709981918335, -4.171299934387207, -3.8954999446868896, -4.485499858856201, -4.8755998611450195, -4.7256999015808105, -4.165599822998047, -4.962200164794922, -5.159800052642822, -3.756500005722046, -3.959199905395508, -4.06220006942749, -4.162199974060059, -4.421999931335449, -4.571599960327148, -4.677700042724609, -4.104100227355957, -4.908400058746338, -4.831600189208984, -5.0524001121521, -5.059199810028076, -4.978700160980225, -4.623300075531006, -5.294400215148926, -5.330900192260742, -5.39870023727417, -5.451099872589111, -5.438799858093262, -5.462299823760986, -5.60260009765625, -5.613699913024902, -5.472099781036377, -5.585299968719482, -5.6834001541137695, -5.657100200653076, -5.600399971008301, -5.650599956512451, -5.770999908447266, -5.767499923706055, -5.550099849700928, -5.551700115203857, -5.309599876403809, -3.2370998859405518, -3.5727999210357666, -5.177499771118164, -5.212800025939941, -5.21150016784668, -5.197000026702881, -4.684899806976318, -4.54640007019043, -3.595900058746338, -4.768700122833252, -4.13640022277832, -5.064700126647949, -5.230299949645996, -5.253900051116943, -5.265399932861328], \"loglift\": [30.0, 29.0, 28.0, 27.0, 26.0, 25.0, 24.0, 23.0, 22.0, 21.0, 20.0, 19.0, 18.0, 17.0, 16.0, 15.0, 14.0, 13.0, 12.0, 11.0, 10.0, 9.0, 8.0, 7.0, 6.0, 5.0, 4.0, 3.0, 2.0, 1.0, 0.6855, 0.6854, 0.6854, 0.6854, 0.6853, 0.6853, 0.6853, 0.6852, 0.6852, 0.6852, 0.6851, 0.6851, 0.6851, 0.6851, 0.685, 0.685, 0.6849, 0.6849, 0.6849, 0.6849, 0.6849, 0.6848, 0.6847, 0.6847, 0.6847, 0.6846, 0.6846, 0.6846, 0.6846, 0.6845, 0.6358, 0.583, 0.6077, 0.6293, 0.5526, 0.6616, 0.5455, 0.5084, 0.39, 0.3241, -0.0892, 0.4248, 0.4638, 0.4688, -0.0053, 0.5855, 0.3029, 0.082, 0.0328, 0.0894, 1.4084, 1.4083, 1.4077, 1.4077, 1.4076, 1.4075, 1.4075, 1.4074, 1.4074, 1.4071, 1.4071, 1.407, 1.407, 1.4069, 1.4068, 1.4064, 1.4063, 1.4062, 1.4062, 1.406, 1.406, 1.4059, 1.4058, 1.4058, 1.4057, 1.4054, 1.4053, 1.4052, 1.4052, 1.4052, 1.4049, 1.4049, 1.3587, 1.3717, 1.3676, 1.3817, 1.3357, 1.3462, 1.2789, 1.3059, 1.1552, 1.2246, 1.198, 1.2704, 1.2399, 1.125, 1.1079, 1.12, 0.5955, 0.8935, 1.0159, 0.759, 0.8004, 0.8651, 0.5873, -0.1852, 0.9951, 0.0167, -0.9366, 0.8141, 0.1454, 1.6195, 1.6191, 1.6188, 1.6188, 1.6187, 1.6186, 1.6185, 1.6185, 1.6183, 1.6183, 1.6183, 1.6181, 1.6178, 1.6178, 1.6176, 1.6176, 1.6176, 1.6173, 1.6173, 1.6171, 1.6171, 1.6171, 1.6169, 1.6169, 1.6169, 1.6168, 1.6168, 1.6166, 1.6165, 1.6163, 1.5855, 1.6095, 1.4184, 1.4063, 1.2951, 1.3802, 1.3614, 1.4001, 0.9239, 1.4712, 1.4657, 1.2026, 1.1915, 0.8182, 0.4263, 0.7366, 0.8419, 0.6388, -0.7255, 0.3642, 0.1742, 2.9214, 2.9211, 2.9209, 2.9208, 2.9204, 2.92, 2.9198, 2.9193, 2.9189, 2.9188, 2.9185, 2.9185, 2.9184, 2.9184, 2.9175, 2.9173, 2.9169, 2.9167, 2.9167, 2.9165, 2.9158, 2.9157, 2.9154, 2.9153, 2.9151, 2.9149, 2.9147, 2.9145, 2.9145, 2.9143, 2.914, 2.9099, 2.8814, 2.5347, 2.325, 2.7278, 2.7386, 2.7362, 2.7268, 2.4691, 2.349, 1.4564, 2.1029, 1.2616, 1.4867, 2.1067, 1.432, 1.5869]}, \"token.table\": {\"Topic\": [4, 4, 4, 2, 1, 3, 4, 4, 1, 2, 1, 2, 3, 4, 1, 2, 4, 1, 2, 3, 1, 3, 1, 2, 3, 1, 2, 3, 1, 3, 1, 2, 3, 4, 3, 1, 2, 4, 2, 2, 2, 4, 1, 3, 2, 1, 2, 1, 3, 1, 2, 4, 1, 2, 3, 1, 4, 2, 4, 3, 1, 2, 3, 4, 1, 1, 2, 1, 3, 1, 3, 1, 2, 3, 4, 2, 1, 3, 2, 1, 1, 1, 2, 3, 4, 3, 1, 3, 1, 2, 1, 3, 1, 2, 3, 4, 1, 2, 3, 4, 1, 2, 3, 1, 3, 1, 3, 3, 3, 3, 1, 2, 3, 1, 2, 3, 1, 2, 1, 2, 3, 4, 1, 2, 3, 3, 2, 3, 3, 1, 3, 4, 1, 2, 3, 4, 4, 4, 3, 3, 2, 2, 2, 1, 3, 1, 1, 1, 2, 2, 1, 2, 1, 2, 1, 2, 1, 2, 1, 2, 1, 2, 3, 4, 1, 1, 1, 2, 4, 4, 2, 1, 2, 3, 4, 4, 2, 1, 2, 2, 1, 2, 3, 4, 1, 2, 4, 1, 2, 3, 4, 2, 3, 4, 1, 2, 4, 1, 2, 4, 1, 2, 2, 1, 1, 2, 3, 3, 1, 2, 1, 4, 1, 3, 4, 2, 4, 2, 4, 1, 2, 4, 1, 4, 2, 2, 1, 2, 3, 4, 3, 3, 3, 2, 4, 2, 3, 4, 4, 4, 2, 3, 1, 2, 4, 1, 2, 3, 2, 3, 4, 4, 1, 2, 4, 2, 4, 4, 2, 4, 2, 1, 1, 3, 2, 2, 4, 1, 3, 2, 2, 1, 1, 2, 4, 3, 1, 3, 2, 1, 3, 2, 1, 3, 1, 3, 1, 2, 1, 3, 4, 3, 3, 1, 3, 3, 3, 1, 3, 1, 2, 1, 2, 3, 2, 4], \"Freq\": [0.9914128509080622, 0.996434530636321, 0.9983949641670014, 0.9959940990650005, 0.27693169365537385, 0.7228386580157216, 0.9889329420568876, 0.9880104217613287, 0.8755295478807512, 0.12443404256241214, 0.039953338315396734, 0.07491250934136888, 0.059930007473095105, 0.8240376027550577, 0.09948606232573681, 0.4601230382565328, 0.44058113315683445, 0.7702693758554787, 0.18465118063232955, 0.04482861032692394, 0.951409162332573, 0.04846412279223006, 0.7441601942813335, 0.2030370629745997, 0.052690744653225645, 0.5469759705049009, 0.004328197590543231, 0.4487799876694513, 0.8008765139947889, 0.19860770694136365, 0.9024808333604702, 0.09579886682861408, 0.0017226569459690842, 0.9958353983294701, 0.9987565733822583, 0.9993833893265488, 0.9991544665307205, 0.9967837321125577, 0.9982020351825911, 0.99647602850994, 0.3211543013430587, 0.6783867102034776, 0.22702085159274057, 0.772371216851335, 0.9989089145967578, 0.945420194755365, 0.05419231022896796, 0.2120809573495903, 0.7871332580974958, 0.009312661254813642, 0.9631952497835825, 0.026607603585181838, 0.21415514210533784, 0.7528708195037745, 0.03288671286443945, 0.9995450579333346, 0.9948794961030137, 0.7370312223410839, 0.26310098007920485, 0.995071161063207, 0.006646320228848103, 0.013292640457696205, 0.013292640457696205, 0.9570701129541268, 0.9986346504791779, 0.9986313371193746, 0.9988656973607489, 0.9997363884232359, 0.9968762190512798, 0.3480130736199761, 0.6515042188450725, 0.016394458083261666, 0.8780871749394947, 0.10558031005620512, 0.9990204526654212, 0.9972424187135018, 0.9994213460664313, 0.9981944672782684, 0.9955606948892529, 0.9995100451301691, 0.9989359662971576, 0.041685897625965286, 0.07816105804868491, 0.05731810923570226, 0.82850721531606, 0.9984518834615058, 0.9763426785917145, 0.022961963278262335, 0.8050727132131884, 0.19457021928720267, 0.9252259756462331, 0.07480289531400958, 0.6822140411077634, 0.08207947332857814, 0.23554900020340797, 0.9974598982066525, 0.036611151350131, 0.07845246717885214, 0.05230164478590143, 0.8315961520958327, 0.9993749518884423, 0.996786006125068, 0.9985459232325186, 0.501153072004017, 0.4987620745230818, 0.9991471901212114, 0.9959525910574337, 0.9979521700108038, 0.9984216386306936, 0.9974117898178965, 0.8692439015907176, 0.13061864882789578, 0.9994193747848839, 0.5387520628487293, 0.17617419776698953, 0.2849096703672605, 0.060301035863736835, 0.9395742797372948, 0.22401440791315338, 0.7758547786260434, 0.9979558087570638, 0.9976390376369146, 0.4607946942529052, 0.44333033980172915, 0.09582415534395286, 0.9964960098253339, 0.7494286232495688, 0.2502428620564475, 0.9977351400015491, 0.5509254922005208, 0.4137061316896104, 0.03549953605257383, 0.040698417744801346, 0.08139683548960269, 0.055960324399101855, 0.8241429593322273, 0.9973643252561588, 0.9943148417151159, 0.9990249353991851, 0.9983756690757551, 0.9988121450579827, 0.9973490721405073, 0.999051282750534, 0.6966508918928014, 0.3033019019473539, 0.9999070720735036, 0.9991911647859095, 0.9991286447823895, 0.9972149809139482, 0.9982025485078538, 0.9047036030582958, 0.09493803241969771, 0.9996732752008113, 0.9987596477079427, 0.47785811008806317, 0.5220864261123105, 0.16795180663746728, 0.831824302165094, 0.3387544406780857, 0.6608166335546425, 0.390548835224605, 0.5972758727265673, 0.000289939744042023, 0.012177469249764965, 0.999064174036901, 0.9997436469296168, 0.2545101599083347, 0.7399558146295251, 0.005292271756127943, 0.9923093397319531, 0.9973426628123201, 0.9993031571787551, 0.00871127762570798, 0.00871127762570798, 0.9843743717050017, 0.9934093774774203, 0.9972969063700339, 0.15469558118855262, 0.8445542540564224, 0.9971171932525188, 0.3277362158158598, 0.21288848206842176, 0.4593909349897522, 0.9986449452869098, 0.9984662268746235, 0.9511917124675164, 0.04849826165541614, 0.4557219619010747, 0.544287853635847, 0.9999107067903023, 0.9977914286239122, 0.0020676917755935533, 0.0020676917755935533, 0.9966274358360927, 0.5204633804825074, 0.2485666283101294, 0.23070900263779104, 0.9989677163047779, 0.9017753052416324, 0.09725027801625448, 0.9997922377246737, 0.9997822144235052, 0.9972820729596893, 0.9991059167135161, 0.25264130746680663, 0.5518218031511829, 0.19529837912730116, 0.9994936663009902, 0.5602463770922417, 0.43969737545678483, 0.9992595289764474, 0.9922456728084919, 0.9994030294233754, 0.9987738986839375, 0.9996146717615951, 0.9991247030784675, 0.9963674946142694, 0.9292913352334328, 0.07026349120057662, 0.9992037636255342, 0.809882851173515, 0.1900579354261465, 0.7609124519473804, 0.2373015104378271, 0.9948715738654977, 0.9975352663580381, 0.342003802315611, 0.2825762141111723, 0.37506285800549743, 0.9985751607886905, 0.9987020027256851, 0.9978911975822193, 0.9987725663001259, 0.9739126470472912, 0.026903664283074342, 0.9984960019113304, 0.9993506667323915, 0.9955306454329651, 0.9951123051977301, 0.9973001836273385, 0.03319418715563921, 0.9665366260024358, 0.9998838616247178, 0.5573602875166238, 0.4413614459522503, 0.32332337164419345, 0.674948258578197, 0.001715243350897578, 0.4239739318078817, 0.026162948323587634, 0.5500927596241503, 0.9949442371284649, 0.4192689632674054, 0.5803639172745125, 0.9916027685361538, 0.43481188546664445, 0.5639819434923004, 0.9925030070736025, 0.7745680923775077, 0.22573127263573078, 0.9960115914267172, 0.9997582468248584, 0.9998210110197094, 0.9979349799678661, 0.9979052983621203, 0.3628462332602982, 0.6361589803914319, 0.1964296829615969, 0.8027256308041016, 0.9942015406660812, 0.9983860613900747, 0.9997861527284256, 0.039205671200017646, 0.959754830976432, 0.993686315345207, 0.9961020734013571, 0.34046193898696314, 0.659207169931548, 0.9970856310441387, 0.14173623223755297, 0.8570873337659084, 0.9944893648246, 0.1820537027335898, 0.8178288286879223, 0.13648803901319945, 0.8622049293760649, 0.9990914445479898, 0.998851684712494, 0.0076838872933476295, 0.9912214608418441, 0.9981914994261324, 0.9992690204465653, 0.9968871098054071, 0.9996912994306264, 0.996205899344688, 0.9968530053956073, 0.998983108589499, 0.19196900438383752, 0.8078841829828043, 0.12905394344912252, 0.8706019994583662, 0.8375859579849082, 0.07813597338907433, 0.08420734969971186, 0.9959836134334316, 0.9956664948155071], \"Term\": [\"accept\", \"advise\", \"agent\", \"already\", \"appliance\", \"appliance\", \"approve\", \"approximate\", \"area\", \"area\", \"as_courtesy\", \"as_courtesy\", \"as_courtesy\", \"as_courtesy\", \"available\", \"available\", \"available\", \"back\", \"back\", \"back\", \"backyard\", \"backyard\", \"bath\", \"bath\", \"bath\", \"bathroom\", \"bathroom\", \"bathroom\", \"beautiful\", \"beautiful\", \"bedroom\", \"bedroom\", \"bedroom\", \"bid\", \"brand\", \"bright\", \"bring\", \"building\", \"bungalow\", \"bus_line\", \"buyer\", \"buyer\", \"cabinet\", \"cabinet\", \"call\", \"car_garage\", \"car_garage\", \"carpet\", \"carpet\", \"city\", \"city\", \"city\", \"close\", \"close\", \"close\", \"closet\", \"closing\", \"condition\", \"condition\", \"convey\", \"county_record\", \"county_record\", \"county_record\", \"county_record\", \"cover\", \"cozy\", \"currently\", \"dining\", \"dishwasher\", \"door\", \"door\", \"downtown\", \"downtown\", \"downtown\", \"due\", \"east_side\", \"eat\", \"electrical\", \"end\", \"enjoy\", \"entertain\", \"estimate_only\", \"estimate_only\", \"estimate_only\", \"estimate_only\", \"exterior\", \"extra\", \"extra\", \"family\", \"family\", \"feature\", \"feature\", \"fence\", \"fence\", \"fence\", \"fha\", \"figure\", \"figure\", \"figure\", \"figure\", \"fireplace\", \"first_time\", \"fixture\", \"floor\", \"floor\", \"floor_plan\", \"flooring\", \"fresh\", \"fresh_paint\", \"freshly_painte\", \"full\", \"full\", \"furnace\", \"garage\", \"garage\", \"garage\", \"good\", \"good\", \"great\", \"great\", \"heater\", \"highest_b\", \"home\", \"home\", \"home\", \"hot_water\", \"house\", \"house\", \"hvac\", \"include\", \"include\", \"include\", \"independent_measurement\", \"independent_measurement\", \"independent_measurement\", \"independent_measurement\", \"information\", \"inspection\", \"instal\", \"interior\", \"investment\", \"investment_opportunity\", \"investor\", \"kitchen\", \"kitchen\", \"large\", \"laundry\", \"level\", \"light_rail\", \"little\", \"live\", \"live\", \"living\", \"local\", \"locate\", \"locate\", \"location\", \"location\", \"look\", \"look\", \"lot\", \"lot\", \"lot\", \"lot\", \"lower_level\", \"main\", \"make\", \"make\", \"make\", \"march_th\", \"market\", \"master\", \"material\", \"material\", \"material\", \"measurement\", \"mile\", \"minute\", \"minute\", \"month\", \"move\", \"move\", \"move\", \"multiple_offer\", \"natural_light\", \"need\", \"need\", \"neighborhood\", \"neighborhood\", \"new\", \"noon\", \"obtain\", \"obtain\", \"obtain\", \"offer\", \"offer\", \"offer\", \"office\", \"only\", \"only\", \"open\", \"opportunity\", \"option\", \"oversized\", \"owner\", \"owner\", \"owner\", \"paint\", \"park\", \"park\", \"patio\", \"please_submit\", \"plenty\", \"plumbing\", \"pm\", \"potential\", \"prefer\", \"price\", \"price\", \"private\", \"property\", \"property\", \"provide\", \"provide\", \"put\", \"quiet_street\", \"ready\", \"ready\", \"ready\", \"receive\", \"recently\", \"refrigerator\", \"remodel\", \"rent\", \"rent\", \"rental\", \"replace\", \"report\", \"residential\", \"review\", \"roof\", \"roof\", \"room\", \"sale\", \"sale\", \"school\", \"school\", \"school\", \"seller\", \"seller\", \"seller\", \"sewer\", \"shopping\", \"shopping\", \"short_sale\", \"showing\", \"showing\", \"site\", \"sold_as\", \"sold_as\", \"solid\", \"space\", \"spacious\", \"sprinkler_system\", \"sq_ft\", \"square_footage\", \"square_footage\", \"stainless_steel\", \"stainless_steel\", \"start\", \"starter\", \"storage\", \"street\", \"street\", \"submit\", \"system\", \"tile\", \"tile\", \"tlc\", \"top\", \"top\", \"toy\", \"update\", \"update\", \"upgrade\", \"upgrade\", \"upstairs\", \"value\", \"vanity\", \"vanity\", \"verify\", \"vinyl\", \"vinyl_side\", \"walk\", \"wall\", \"water_heat\", \"water_heater\", \"window\", \"window\", \"work\", \"work\", \"yard\", \"yard\", \"yard\", \"years_old\", \"zone\"]}, \"R\": 30, \"lambda.step\": 0.01, \"plot.opts\": {\"xlab\": \"PC1\", \"ylab\": \"PC2\"}, \"topic.order\": [2, 3, 4, 1]};\n",
              "\n",
              "function LDAvis_load_lib(url, callback){\n",
              "  var s = document.createElement('script');\n",
              "  s.src = url;\n",
              "  s.async = true;\n",
              "  s.onreadystatechange = s.onload = callback;\n",
              "  s.onerror = function(){console.warn(\"failed to load library \" + url);};\n",
              "  document.getElementsByTagName(\"head\")[0].appendChild(s);\n",
              "}\n",
              "\n",
              "if(typeof(LDAvis) !== \"undefined\"){\n",
              "   // already loaded: just create the visualization\n",
              "   !function(LDAvis){\n",
              "       new LDAvis(\"#\" + \"ldavis_el4261404651238826249945645365\", ldavis_el4261404651238826249945645365_data);\n",
              "   }(LDAvis);\n",
              "}else if(typeof define === \"function\" && define.amd){\n",
              "   // require.js is available: use it to load d3/LDAvis\n",
              "   require.config({paths: {d3: \"https://cdnjs.cloudflare.com/ajax/libs/d3/3.5.5/d3.min\"}});\n",
              "   require([\"d3\"], function(d3){\n",
              "      window.d3 = d3;\n",
              "      LDAvis_load_lib(\"https://cdn.rawgit.com/bmabey/pyLDAvis/files/ldavis.v1.0.0.js\", function(){\n",
              "        new LDAvis(\"#\" + \"ldavis_el4261404651238826249945645365\", ldavis_el4261404651238826249945645365_data);\n",
              "      });\n",
              "    });\n",
              "}else{\n",
              "    // require.js not available: dynamically load d3 & LDAvis\n",
              "    LDAvis_load_lib(\"https://cdnjs.cloudflare.com/ajax/libs/d3/3.5.5/d3.min.js\", function(){\n",
              "         LDAvis_load_lib(\"https://cdn.rawgit.com/bmabey/pyLDAvis/files/ldavis.v1.0.0.js\", function(){\n",
              "                 new LDAvis(\"#\" + \"ldavis_el4261404651238826249945645365\", ldavis_el4261404651238826249945645365_data);\n",
              "            })\n",
              "         });\n",
              "}\n",
              "</script>"
            ]
          },
          "metadata": {},
          "execution_count": 26
        }
      ]
    },
    {
      "cell_type": "code",
      "metadata": {
        "id": "dyP_b_naC0JW",
        "colab": {
          "base_uri": "https://localhost:8080/",
          "height": 363
        },
        "outputId": "81dcc9dd-437f-471c-8a4a-907a5ba07269"
      },
      "source": [
        "df_topic_sents_keywords = format_topics_sentences(ldamodel=optimal_model, corpus=corpus, texts=text)\n",
        "\n",
        "# Format\n",
        "df_dominant_topic = df_topic_sents_keywords.reset_index()\n",
        "df_dominant_topic.columns = ['Document_No', 'Dominant_Topic', 'Topic_Perc_Contrib', 'Keywords', 'Text']\n",
        "\n",
        "# Show\n",
        "df_dominant_topic.head(10)"
      ],
      "execution_count": 27,
      "outputs": [
        {
          "output_type": "execute_result",
          "data": {
            "text/plain": [
              "   Document_No  Dominant_Topic  Topic_Perc_Contrib  \\\n",
              "0            0               2              0.6928   \n",
              "1            1               1              0.5828   \n",
              "2            2               2              0.7335   \n",
              "3            3               2              0.6636   \n",
              "4            4               2              0.4878   \n",
              "5            5               2              0.6101   \n",
              "6            6               1              0.4642   \n",
              "7            7               1              0.7849   \n",
              "8            8               0              0.6827   \n",
              "9            9               2              0.7071   \n",
              "\n",
              "                                            Keywords  \\\n",
              "0  home, great, lot, property, close, location, m...   \n",
              "1  room, bedroom, home, large, kitchen, bath, spa...   \n",
              "2  home, great, lot, property, close, location, m...   \n",
              "3  home, great, lot, property, close, location, m...   \n",
              "4  home, great, lot, property, close, location, m...   \n",
              "5  home, great, lot, property, close, location, m...   \n",
              "6  room, bedroom, home, large, kitchen, bath, spa...   \n",
              "7  room, bedroom, home, large, kitchen, bath, spa...   \n",
              "8  buyer, seller, offer, pm, verify, due, obtain,...   \n",
              "9  home, great, lot, property, close, location, m...   \n",
              "\n",
              "                                                Text  \n",
              "0  Calling All Investors!! Home sold AS IS This i...  \n",
              "1  Solid investment property with great bones and...  \n",
              "2  Investment property currently rented at $795 p...  \n",
              "3  This 4 sides brick home is the ideal investmen...  \n",
              "4  Don't miss out on this four sided brick home! ...  \n",
              "5  Great rental property or beginner home! Corner...  \n",
              "6  Little Darling has 3 bedrooms, 1 full bath and...  \n",
              "7  3 bedrooms 2 bath with a extra lot. Walk in th...  \n",
              "8  You must see this 3 bedroom 1 bathroom home. A...  \n",
              "9  Investors: looking for a quiet house to conver...  "
            ],
            "text/html": [
              "\n",
              "  <div id=\"df-a6602fca-df76-4f9a-b3ac-d82d2c6f6bba\">\n",
              "    <div class=\"colab-df-container\">\n",
              "      <div>\n",
              "<style scoped>\n",
              "    .dataframe tbody tr th:only-of-type {\n",
              "        vertical-align: middle;\n",
              "    }\n",
              "\n",
              "    .dataframe tbody tr th {\n",
              "        vertical-align: top;\n",
              "    }\n",
              "\n",
              "    .dataframe thead th {\n",
              "        text-align: right;\n",
              "    }\n",
              "</style>\n",
              "<table border=\"1\" class=\"dataframe\">\n",
              "  <thead>\n",
              "    <tr style=\"text-align: right;\">\n",
              "      <th></th>\n",
              "      <th>Document_No</th>\n",
              "      <th>Dominant_Topic</th>\n",
              "      <th>Topic_Perc_Contrib</th>\n",
              "      <th>Keywords</th>\n",
              "      <th>Text</th>\n",
              "    </tr>\n",
              "  </thead>\n",
              "  <tbody>\n",
              "    <tr>\n",
              "      <th>0</th>\n",
              "      <td>0</td>\n",
              "      <td>2</td>\n",
              "      <td>0.6928</td>\n",
              "      <td>home, great, lot, property, close, location, m...</td>\n",
              "      <td>Calling All Investors!! Home sold AS IS This i...</td>\n",
              "    </tr>\n",
              "    <tr>\n",
              "      <th>1</th>\n",
              "      <td>1</td>\n",
              "      <td>1</td>\n",
              "      <td>0.5828</td>\n",
              "      <td>room, bedroom, home, large, kitchen, bath, spa...</td>\n",
              "      <td>Solid investment property with great bones and...</td>\n",
              "    </tr>\n",
              "    <tr>\n",
              "      <th>2</th>\n",
              "      <td>2</td>\n",
              "      <td>2</td>\n",
              "      <td>0.7335</td>\n",
              "      <td>home, great, lot, property, close, location, m...</td>\n",
              "      <td>Investment property currently rented at $795 p...</td>\n",
              "    </tr>\n",
              "    <tr>\n",
              "      <th>3</th>\n",
              "      <td>3</td>\n",
              "      <td>2</td>\n",
              "      <td>0.6636</td>\n",
              "      <td>home, great, lot, property, close, location, m...</td>\n",
              "      <td>This 4 sides brick home is the ideal investmen...</td>\n",
              "    </tr>\n",
              "    <tr>\n",
              "      <th>4</th>\n",
              "      <td>4</td>\n",
              "      <td>2</td>\n",
              "      <td>0.4878</td>\n",
              "      <td>home, great, lot, property, close, location, m...</td>\n",
              "      <td>Don't miss out on this four sided brick home! ...</td>\n",
              "    </tr>\n",
              "    <tr>\n",
              "      <th>5</th>\n",
              "      <td>5</td>\n",
              "      <td>2</td>\n",
              "      <td>0.6101</td>\n",
              "      <td>home, great, lot, property, close, location, m...</td>\n",
              "      <td>Great rental property or beginner home! Corner...</td>\n",
              "    </tr>\n",
              "    <tr>\n",
              "      <th>6</th>\n",
              "      <td>6</td>\n",
              "      <td>1</td>\n",
              "      <td>0.4642</td>\n",
              "      <td>room, bedroom, home, large, kitchen, bath, spa...</td>\n",
              "      <td>Little Darling has 3 bedrooms, 1 full bath and...</td>\n",
              "    </tr>\n",
              "    <tr>\n",
              "      <th>7</th>\n",
              "      <td>7</td>\n",
              "      <td>1</td>\n",
              "      <td>0.7849</td>\n",
              "      <td>room, bedroom, home, large, kitchen, bath, spa...</td>\n",
              "      <td>3 bedrooms 2 bath with a extra lot. Walk in th...</td>\n",
              "    </tr>\n",
              "    <tr>\n",
              "      <th>8</th>\n",
              "      <td>8</td>\n",
              "      <td>0</td>\n",
              "      <td>0.6827</td>\n",
              "      <td>buyer, seller, offer, pm, verify, due, obtain,...</td>\n",
              "      <td>You must see this 3 bedroom 1 bathroom home. A...</td>\n",
              "    </tr>\n",
              "    <tr>\n",
              "      <th>9</th>\n",
              "      <td>9</td>\n",
              "      <td>2</td>\n",
              "      <td>0.7071</td>\n",
              "      <td>home, great, lot, property, close, location, m...</td>\n",
              "      <td>Investors: looking for a quiet house to conver...</td>\n",
              "    </tr>\n",
              "  </tbody>\n",
              "</table>\n",
              "</div>\n",
              "      <button class=\"colab-df-convert\" onclick=\"convertToInteractive('df-a6602fca-df76-4f9a-b3ac-d82d2c6f6bba')\"\n",
              "              title=\"Convert this dataframe to an interactive table.\"\n",
              "              style=\"display:none;\">\n",
              "        \n",
              "  <svg xmlns=\"http://www.w3.org/2000/svg\" height=\"24px\"viewBox=\"0 0 24 24\"\n",
              "       width=\"24px\">\n",
              "    <path d=\"M0 0h24v24H0V0z\" fill=\"none\"/>\n",
              "    <path d=\"M18.56 5.44l.94 2.06.94-2.06 2.06-.94-2.06-.94-.94-2.06-.94 2.06-2.06.94zm-11 1L8.5 8.5l.94-2.06 2.06-.94-2.06-.94L8.5 2.5l-.94 2.06-2.06.94zm10 10l.94 2.06.94-2.06 2.06-.94-2.06-.94-.94-2.06-.94 2.06-2.06.94z\"/><path d=\"M17.41 7.96l-1.37-1.37c-.4-.4-.92-.59-1.43-.59-.52 0-1.04.2-1.43.59L10.3 9.45l-7.72 7.72c-.78.78-.78 2.05 0 2.83L4 21.41c.39.39.9.59 1.41.59.51 0 1.02-.2 1.41-.59l7.78-7.78 2.81-2.81c.8-.78.8-2.07 0-2.86zM5.41 20L4 18.59l7.72-7.72 1.47 1.35L5.41 20z\"/>\n",
              "  </svg>\n",
              "      </button>\n",
              "      \n",
              "  <style>\n",
              "    .colab-df-container {\n",
              "      display:flex;\n",
              "      flex-wrap:wrap;\n",
              "      gap: 12px;\n",
              "    }\n",
              "\n",
              "    .colab-df-convert {\n",
              "      background-color: #E8F0FE;\n",
              "      border: none;\n",
              "      border-radius: 50%;\n",
              "      cursor: pointer;\n",
              "      display: none;\n",
              "      fill: #1967D2;\n",
              "      height: 32px;\n",
              "      padding: 0 0 0 0;\n",
              "      width: 32px;\n",
              "    }\n",
              "\n",
              "    .colab-df-convert:hover {\n",
              "      background-color: #E2EBFA;\n",
              "      box-shadow: 0px 1px 2px rgba(60, 64, 67, 0.3), 0px 1px 3px 1px rgba(60, 64, 67, 0.15);\n",
              "      fill: #174EA6;\n",
              "    }\n",
              "\n",
              "    [theme=dark] .colab-df-convert {\n",
              "      background-color: #3B4455;\n",
              "      fill: #D2E3FC;\n",
              "    }\n",
              "\n",
              "    [theme=dark] .colab-df-convert:hover {\n",
              "      background-color: #434B5C;\n",
              "      box-shadow: 0px 1px 3px 1px rgba(0, 0, 0, 0.15);\n",
              "      filter: drop-shadow(0px 1px 2px rgba(0, 0, 0, 0.3));\n",
              "      fill: #FFFFFF;\n",
              "    }\n",
              "  </style>\n",
              "\n",
              "      <script>\n",
              "        const buttonEl =\n",
              "          document.querySelector('#df-a6602fca-df76-4f9a-b3ac-d82d2c6f6bba button.colab-df-convert');\n",
              "        buttonEl.style.display =\n",
              "          google.colab.kernel.accessAllowed ? 'block' : 'none';\n",
              "\n",
              "        async function convertToInteractive(key) {\n",
              "          const element = document.querySelector('#df-a6602fca-df76-4f9a-b3ac-d82d2c6f6bba');\n",
              "          const dataTable =\n",
              "            await google.colab.kernel.invokeFunction('convertToInteractive',\n",
              "                                                     [key], {});\n",
              "          if (!dataTable) return;\n",
              "\n",
              "          const docLinkHtml = 'Like what you see? Visit the ' +\n",
              "            '<a target=\"_blank\" href=https://colab.research.google.com/notebooks/data_table.ipynb>data table notebook</a>'\n",
              "            + ' to learn more about interactive tables.';\n",
              "          element.innerHTML = '';\n",
              "          dataTable['output_type'] = 'display_data';\n",
              "          await google.colab.output.renderOutput(dataTable, element);\n",
              "          const docLink = document.createElement('div');\n",
              "          docLink.innerHTML = docLinkHtml;\n",
              "          element.appendChild(docLink);\n",
              "        }\n",
              "      </script>\n",
              "    </div>\n",
              "  </div>\n",
              "  "
            ]
          },
          "metadata": {},
          "execution_count": 27
        }
      ]
    },
    {
      "cell_type": "code",
      "metadata": {
        "id": "AoT7NBCqC27x",
        "colab": {
          "base_uri": "https://localhost:8080/",
          "height": 175
        },
        "outputId": "b83bcf4f-e4f9-4730-fd60-2db72d988562"
      },
      "source": [
        "# Group top 5 sentences under each topic\n",
        "sent_topics_sorteddf = pd.DataFrame()\n",
        "\n",
        "sent_topics_outdf_grpd = df_topic_sents_keywords.groupby('Dominant_Topic')\n",
        "\n",
        "for i, grp in sent_topics_outdf_grpd:\n",
        "    sent_topics_sorteddf = pd.concat([sent_topics_sorteddf, \n",
        "                grp.sort_values(['Perc_Contribution'], ascending=[0]).head(1)], \n",
        "                axis=0)\n",
        "\n",
        "# Reset Index    \n",
        "sent_topics_sorteddf.reset_index(drop=True, inplace=True)\n",
        "\n",
        "# Format\n",
        "sent_topics_sorteddf.columns = ['Topic_Num', \"Topic_Perc_Contrib\", \"Keywords\", \"Text\"]\n",
        "\n",
        "# Show\n",
        "sent_topics_sorteddf"
      ],
      "execution_count": 28,
      "outputs": [
        {
          "output_type": "execute_result",
          "data": {
            "text/plain": [
              "   Topic_Num  Topic_Perc_Contrib  \\\n",
              "0          0              0.9161   \n",
              "1          1              0.9612   \n",
              "2          2              0.9272   \n",
              "3          3              0.8859   \n",
              "\n",
              "                                            Keywords  \\\n",
              "0  buyer, seller, offer, pm, verify, due, obtain,...   \n",
              "1  room, bedroom, home, large, kitchen, bath, spa...   \n",
              "2  home, great, lot, property, close, location, m...   \n",
              "3  new, update, floor, roof, window, kitchen, app...   \n",
              "\n",
              "                                                Text  \n",
              "0  This property is sold as a bundle of 4 with 14...  \n",
              "1  Beautiful, impeccably maintained split floorpl...  \n",
              "2  Instant Equity in HOT Atlanta neighborhood! Mi...  \n",
              "3  Renovated home better than new.All new Kitchen...  "
            ],
            "text/html": [
              "\n",
              "  <div id=\"df-e6df1e3b-5a48-4dad-a529-d1af19ebe29c\">\n",
              "    <div class=\"colab-df-container\">\n",
              "      <div>\n",
              "<style scoped>\n",
              "    .dataframe tbody tr th:only-of-type {\n",
              "        vertical-align: middle;\n",
              "    }\n",
              "\n",
              "    .dataframe tbody tr th {\n",
              "        vertical-align: top;\n",
              "    }\n",
              "\n",
              "    .dataframe thead th {\n",
              "        text-align: right;\n",
              "    }\n",
              "</style>\n",
              "<table border=\"1\" class=\"dataframe\">\n",
              "  <thead>\n",
              "    <tr style=\"text-align: right;\">\n",
              "      <th></th>\n",
              "      <th>Topic_Num</th>\n",
              "      <th>Topic_Perc_Contrib</th>\n",
              "      <th>Keywords</th>\n",
              "      <th>Text</th>\n",
              "    </tr>\n",
              "  </thead>\n",
              "  <tbody>\n",
              "    <tr>\n",
              "      <th>0</th>\n",
              "      <td>0</td>\n",
              "      <td>0.9161</td>\n",
              "      <td>buyer, seller, offer, pm, verify, due, obtain,...</td>\n",
              "      <td>This property is sold as a bundle of 4 with 14...</td>\n",
              "    </tr>\n",
              "    <tr>\n",
              "      <th>1</th>\n",
              "      <td>1</td>\n",
              "      <td>0.9612</td>\n",
              "      <td>room, bedroom, home, large, kitchen, bath, spa...</td>\n",
              "      <td>Beautiful, impeccably maintained split floorpl...</td>\n",
              "    </tr>\n",
              "    <tr>\n",
              "      <th>2</th>\n",
              "      <td>2</td>\n",
              "      <td>0.9272</td>\n",
              "      <td>home, great, lot, property, close, location, m...</td>\n",
              "      <td>Instant Equity in HOT Atlanta neighborhood! Mi...</td>\n",
              "    </tr>\n",
              "    <tr>\n",
              "      <th>3</th>\n",
              "      <td>3</td>\n",
              "      <td>0.8859</td>\n",
              "      <td>new, update, floor, roof, window, kitchen, app...</td>\n",
              "      <td>Renovated home better than new.All new Kitchen...</td>\n",
              "    </tr>\n",
              "  </tbody>\n",
              "</table>\n",
              "</div>\n",
              "      <button class=\"colab-df-convert\" onclick=\"convertToInteractive('df-e6df1e3b-5a48-4dad-a529-d1af19ebe29c')\"\n",
              "              title=\"Convert this dataframe to an interactive table.\"\n",
              "              style=\"display:none;\">\n",
              "        \n",
              "  <svg xmlns=\"http://www.w3.org/2000/svg\" height=\"24px\"viewBox=\"0 0 24 24\"\n",
              "       width=\"24px\">\n",
              "    <path d=\"M0 0h24v24H0V0z\" fill=\"none\"/>\n",
              "    <path d=\"M18.56 5.44l.94 2.06.94-2.06 2.06-.94-2.06-.94-.94-2.06-.94 2.06-2.06.94zm-11 1L8.5 8.5l.94-2.06 2.06-.94-2.06-.94L8.5 2.5l-.94 2.06-2.06.94zm10 10l.94 2.06.94-2.06 2.06-.94-2.06-.94-.94-2.06-.94 2.06-2.06.94z\"/><path d=\"M17.41 7.96l-1.37-1.37c-.4-.4-.92-.59-1.43-.59-.52 0-1.04.2-1.43.59L10.3 9.45l-7.72 7.72c-.78.78-.78 2.05 0 2.83L4 21.41c.39.39.9.59 1.41.59.51 0 1.02-.2 1.41-.59l7.78-7.78 2.81-2.81c.8-.78.8-2.07 0-2.86zM5.41 20L4 18.59l7.72-7.72 1.47 1.35L5.41 20z\"/>\n",
              "  </svg>\n",
              "      </button>\n",
              "      \n",
              "  <style>\n",
              "    .colab-df-container {\n",
              "      display:flex;\n",
              "      flex-wrap:wrap;\n",
              "      gap: 12px;\n",
              "    }\n",
              "\n",
              "    .colab-df-convert {\n",
              "      background-color: #E8F0FE;\n",
              "      border: none;\n",
              "      border-radius: 50%;\n",
              "      cursor: pointer;\n",
              "      display: none;\n",
              "      fill: #1967D2;\n",
              "      height: 32px;\n",
              "      padding: 0 0 0 0;\n",
              "      width: 32px;\n",
              "    }\n",
              "\n",
              "    .colab-df-convert:hover {\n",
              "      background-color: #E2EBFA;\n",
              "      box-shadow: 0px 1px 2px rgba(60, 64, 67, 0.3), 0px 1px 3px 1px rgba(60, 64, 67, 0.15);\n",
              "      fill: #174EA6;\n",
              "    }\n",
              "\n",
              "    [theme=dark] .colab-df-convert {\n",
              "      background-color: #3B4455;\n",
              "      fill: #D2E3FC;\n",
              "    }\n",
              "\n",
              "    [theme=dark] .colab-df-convert:hover {\n",
              "      background-color: #434B5C;\n",
              "      box-shadow: 0px 1px 3px 1px rgba(0, 0, 0, 0.15);\n",
              "      filter: drop-shadow(0px 1px 2px rgba(0, 0, 0, 0.3));\n",
              "      fill: #FFFFFF;\n",
              "    }\n",
              "  </style>\n",
              "\n",
              "      <script>\n",
              "        const buttonEl =\n",
              "          document.querySelector('#df-e6df1e3b-5a48-4dad-a529-d1af19ebe29c button.colab-df-convert');\n",
              "        buttonEl.style.display =\n",
              "          google.colab.kernel.accessAllowed ? 'block' : 'none';\n",
              "\n",
              "        async function convertToInteractive(key) {\n",
              "          const element = document.querySelector('#df-e6df1e3b-5a48-4dad-a529-d1af19ebe29c');\n",
              "          const dataTable =\n",
              "            await google.colab.kernel.invokeFunction('convertToInteractive',\n",
              "                                                     [key], {});\n",
              "          if (!dataTable) return;\n",
              "\n",
              "          const docLinkHtml = 'Like what you see? Visit the ' +\n",
              "            '<a target=\"_blank\" href=https://colab.research.google.com/notebooks/data_table.ipynb>data table notebook</a>'\n",
              "            + ' to learn more about interactive tables.';\n",
              "          element.innerHTML = '';\n",
              "          dataTable['output_type'] = 'display_data';\n",
              "          await google.colab.output.renderOutput(dataTable, element);\n",
              "          const docLink = document.createElement('div');\n",
              "          docLink.innerHTML = docLinkHtml;\n",
              "          element.appendChild(docLink);\n",
              "        }\n",
              "      </script>\n",
              "    </div>\n",
              "  </div>\n",
              "  "
            ]
          },
          "metadata": {},
          "execution_count": 28
        }
      ]
    },
    {
      "cell_type": "code",
      "metadata": {
        "colab": {
          "base_uri": "https://localhost:8080/",
          "height": 70
        },
        "id": "gE1I04Kkp-lf",
        "outputId": "9d13ab2b-dd12-4fa9-da30-9d16b02baee6"
      },
      "source": [
        "sent_topics_sorteddf.loc[sent_topics_sorteddf['Topic_Num'] == 2]['Text'].iloc[0]"
      ],
      "execution_count": 29,
      "outputs": [
        {
          "output_type": "execute_result",
          "data": {
            "text/plain": [
              "'Instant Equity in HOT Atlanta neighborhood! Minutes to Grant Park, East Atlanta Village, The Beacon Atlanta, Beltline, Zoo Atlanta! 4 Sided Brick centrally located close to Freeways, Downtown, Airport and Stadiums! Perfect for first time home buyer, FHA, VA, Conventional financing ok! Great opportunity for savvy investor, add this gem to your portfolio! Choose your exit, MULTIPLE EXIT strategies! Tenant in place (instant Cash Flow), renovate and sell OR tear down and go from the ground up! ARV $400k+ INSTANT EQUITY!!!!'"
            ],
            "application/vnd.google.colaboratory.intrinsic+json": {
              "type": "string"
            }
          },
          "metadata": {},
          "execution_count": 29
        }
      ]
    },
    {
      "cell_type": "code",
      "metadata": {
        "id": "CLxtDpZUC6Tx",
        "colab": {
          "base_uri": "https://localhost:8080/",
          "height": 206
        },
        "outputId": "6e26db04-40e1-4c58-c4a7-501e99795207"
      },
      "source": [
        "# Number of Documents for Each Topic\n",
        "topic_counts = df_topic_sents_keywords['Dominant_Topic'].value_counts()\n",
        "\n",
        "# Percentage of Documents for Each Topic\n",
        "topic_contribution = round(topic_counts/topic_counts.sum(), 4)\n",
        "\n",
        "# Topic Number and Keywords\n",
        "topic_num_keywords = df_topic_sents_keywords[['Dominant_Topic', 'Topic_Keywords']]\n",
        "\n",
        "# Concatenate Column wise\n",
        "df_dominant_topics = pd.concat([topic_num_keywords, topic_counts, topic_contribution], axis=1)\n",
        "\n",
        "# Change Column names\n",
        "df_dominant_topics.columns = ['Dominant_Topic', 'Topic_Keywords', 'Num_Documents', 'Perc_Documents']\n",
        "\n",
        "# Show\n",
        "df_dominant_topics.sort_values(by=['Perc_Documents']).head()"
      ],
      "execution_count": 30,
      "outputs": [
        {
          "output_type": "execute_result",
          "data": {
            "text/plain": [
              "   Dominant_Topic                                     Topic_Keywords  \\\n",
              "0               2  home, great, lot, property, close, location, m...   \n",
              "3               2  home, great, lot, property, close, location, m...   \n",
              "2               2  home, great, lot, property, close, location, m...   \n",
              "1               1  room, bedroom, home, large, kitchen, bath, spa...   \n",
              "4               2  home, great, lot, property, close, location, m...   \n",
              "\n",
              "   Num_Documents  Perc_Documents  \n",
              "0          443.0          0.0351  \n",
              "3         1435.0          0.1136  \n",
              "2         3347.0          0.2649  \n",
              "1         7412.0          0.5865  \n",
              "4            NaN             NaN  "
            ],
            "text/html": [
              "\n",
              "  <div id=\"df-ed988ddb-67e5-4ca3-ab7e-b537c2e68b4d\">\n",
              "    <div class=\"colab-df-container\">\n",
              "      <div>\n",
              "<style scoped>\n",
              "    .dataframe tbody tr th:only-of-type {\n",
              "        vertical-align: middle;\n",
              "    }\n",
              "\n",
              "    .dataframe tbody tr th {\n",
              "        vertical-align: top;\n",
              "    }\n",
              "\n",
              "    .dataframe thead th {\n",
              "        text-align: right;\n",
              "    }\n",
              "</style>\n",
              "<table border=\"1\" class=\"dataframe\">\n",
              "  <thead>\n",
              "    <tr style=\"text-align: right;\">\n",
              "      <th></th>\n",
              "      <th>Dominant_Topic</th>\n",
              "      <th>Topic_Keywords</th>\n",
              "      <th>Num_Documents</th>\n",
              "      <th>Perc_Documents</th>\n",
              "    </tr>\n",
              "  </thead>\n",
              "  <tbody>\n",
              "    <tr>\n",
              "      <th>0</th>\n",
              "      <td>2</td>\n",
              "      <td>home, great, lot, property, close, location, m...</td>\n",
              "      <td>443.0</td>\n",
              "      <td>0.0351</td>\n",
              "    </tr>\n",
              "    <tr>\n",
              "      <th>3</th>\n",
              "      <td>2</td>\n",
              "      <td>home, great, lot, property, close, location, m...</td>\n",
              "      <td>1435.0</td>\n",
              "      <td>0.1136</td>\n",
              "    </tr>\n",
              "    <tr>\n",
              "      <th>2</th>\n",
              "      <td>2</td>\n",
              "      <td>home, great, lot, property, close, location, m...</td>\n",
              "      <td>3347.0</td>\n",
              "      <td>0.2649</td>\n",
              "    </tr>\n",
              "    <tr>\n",
              "      <th>1</th>\n",
              "      <td>1</td>\n",
              "      <td>room, bedroom, home, large, kitchen, bath, spa...</td>\n",
              "      <td>7412.0</td>\n",
              "      <td>0.5865</td>\n",
              "    </tr>\n",
              "    <tr>\n",
              "      <th>4</th>\n",
              "      <td>2</td>\n",
              "      <td>home, great, lot, property, close, location, m...</td>\n",
              "      <td>NaN</td>\n",
              "      <td>NaN</td>\n",
              "    </tr>\n",
              "  </tbody>\n",
              "</table>\n",
              "</div>\n",
              "      <button class=\"colab-df-convert\" onclick=\"convertToInteractive('df-ed988ddb-67e5-4ca3-ab7e-b537c2e68b4d')\"\n",
              "              title=\"Convert this dataframe to an interactive table.\"\n",
              "              style=\"display:none;\">\n",
              "        \n",
              "  <svg xmlns=\"http://www.w3.org/2000/svg\" height=\"24px\"viewBox=\"0 0 24 24\"\n",
              "       width=\"24px\">\n",
              "    <path d=\"M0 0h24v24H0V0z\" fill=\"none\"/>\n",
              "    <path d=\"M18.56 5.44l.94 2.06.94-2.06 2.06-.94-2.06-.94-.94-2.06-.94 2.06-2.06.94zm-11 1L8.5 8.5l.94-2.06 2.06-.94-2.06-.94L8.5 2.5l-.94 2.06-2.06.94zm10 10l.94 2.06.94-2.06 2.06-.94-2.06-.94-.94-2.06-.94 2.06-2.06.94z\"/><path d=\"M17.41 7.96l-1.37-1.37c-.4-.4-.92-.59-1.43-.59-.52 0-1.04.2-1.43.59L10.3 9.45l-7.72 7.72c-.78.78-.78 2.05 0 2.83L4 21.41c.39.39.9.59 1.41.59.51 0 1.02-.2 1.41-.59l7.78-7.78 2.81-2.81c.8-.78.8-2.07 0-2.86zM5.41 20L4 18.59l7.72-7.72 1.47 1.35L5.41 20z\"/>\n",
              "  </svg>\n",
              "      </button>\n",
              "      \n",
              "  <style>\n",
              "    .colab-df-container {\n",
              "      display:flex;\n",
              "      flex-wrap:wrap;\n",
              "      gap: 12px;\n",
              "    }\n",
              "\n",
              "    .colab-df-convert {\n",
              "      background-color: #E8F0FE;\n",
              "      border: none;\n",
              "      border-radius: 50%;\n",
              "      cursor: pointer;\n",
              "      display: none;\n",
              "      fill: #1967D2;\n",
              "      height: 32px;\n",
              "      padding: 0 0 0 0;\n",
              "      width: 32px;\n",
              "    }\n",
              "\n",
              "    .colab-df-convert:hover {\n",
              "      background-color: #E2EBFA;\n",
              "      box-shadow: 0px 1px 2px rgba(60, 64, 67, 0.3), 0px 1px 3px 1px rgba(60, 64, 67, 0.15);\n",
              "      fill: #174EA6;\n",
              "    }\n",
              "\n",
              "    [theme=dark] .colab-df-convert {\n",
              "      background-color: #3B4455;\n",
              "      fill: #D2E3FC;\n",
              "    }\n",
              "\n",
              "    [theme=dark] .colab-df-convert:hover {\n",
              "      background-color: #434B5C;\n",
              "      box-shadow: 0px 1px 3px 1px rgba(0, 0, 0, 0.15);\n",
              "      filter: drop-shadow(0px 1px 2px rgba(0, 0, 0, 0.3));\n",
              "      fill: #FFFFFF;\n",
              "    }\n",
              "  </style>\n",
              "\n",
              "      <script>\n",
              "        const buttonEl =\n",
              "          document.querySelector('#df-ed988ddb-67e5-4ca3-ab7e-b537c2e68b4d button.colab-df-convert');\n",
              "        buttonEl.style.display =\n",
              "          google.colab.kernel.accessAllowed ? 'block' : 'none';\n",
              "\n",
              "        async function convertToInteractive(key) {\n",
              "          const element = document.querySelector('#df-ed988ddb-67e5-4ca3-ab7e-b537c2e68b4d');\n",
              "          const dataTable =\n",
              "            await google.colab.kernel.invokeFunction('convertToInteractive',\n",
              "                                                     [key], {});\n",
              "          if (!dataTable) return;\n",
              "\n",
              "          const docLinkHtml = 'Like what you see? Visit the ' +\n",
              "            '<a target=\"_blank\" href=https://colab.research.google.com/notebooks/data_table.ipynb>data table notebook</a>'\n",
              "            + ' to learn more about interactive tables.';\n",
              "          element.innerHTML = '';\n",
              "          dataTable['output_type'] = 'display_data';\n",
              "          await google.colab.output.renderOutput(dataTable, element);\n",
              "          const docLink = document.createElement('div');\n",
              "          docLink.innerHTML = docLinkHtml;\n",
              "          element.appendChild(docLink);\n",
              "        }\n",
              "      </script>\n",
              "    </div>\n",
              "  </div>\n",
              "  "
            ]
          },
          "metadata": {},
          "execution_count": 30
        }
      ]
    },
    {
      "cell_type": "markdown",
      "metadata": {
        "id": "j_FT8wYO2MqU"
      },
      "source": [
        "### <font color=\"green\">Supervised</font>"
      ]
    },
    {
      "cell_type": "code",
      "metadata": {
        "id": "8bzjDQx22Q4a"
      },
      "source": [
        "# in part 3"
      ],
      "execution_count": 31,
      "outputs": []
    },
    {
      "cell_type": "markdown",
      "metadata": {
        "id": "6wWOVkPpzMyK"
      },
      "source": [
        "# End Notebook"
      ]
    }
  ]
}
